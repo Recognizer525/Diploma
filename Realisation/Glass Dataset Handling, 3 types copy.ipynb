{
 "cells": [
  {
   "cell_type": "code",
   "execution_count": 1,
   "id": "e2168c62",
   "metadata": {},
   "outputs": [],
   "source": [
    "#Импортируем необходимые библиотеки\n",
    "from scipy import stats\n",
    "import numpy as np\n",
    "import matplotlib.pyplot as plt\n",
    "import pandas as pd\n",
    "import seaborn as sns\n",
    "import warnings\n",
    "#Новые библиотеки с выделенными функциями\n",
    "import mv_tools as mvt\n",
    "import solver\n",
    "warnings.filterwarnings('ignore')"
   ]
  },
  {
   "cell_type": "markdown",
   "id": "5e16c674",
   "metadata": {},
   "source": [
    "Датасет взят из следующего источника: https://www.openml.org/search?type=data&sort=runs&status=active&order=desc&qualities.NumberOfClasses=%3D_2&qualities.NumberOfFeatures=lte_10&qualities.NumberOfInstances=lte_1000&id=1005,\n",
    "также может быть найден (в ином формате) по следующей ссылке: https://archive.ics.uci.edu/dataset/42/glass+identification"
   ]
  },
  {
   "cell_type": "markdown",
   "id": "1673e920-3fd1-4b3f-8aeb-9ce5cc0b1c15",
   "metadata": {},
   "source": [
    "# Считываем датасет из файла, отдельно метки, отдельно признаки"
   ]
  },
  {
   "cell_type": "code",
   "execution_count": 2,
   "id": "9577cca5-5720-4f0a-8198-f9c81ce2a7dd",
   "metadata": {},
   "outputs": [],
   "source": [
    "features = []\n",
    "with open('Datasets/glass.arff','r') as f1:\n",
    "    for line in f1:\n",
    "        if line[0].isdigit():\n",
    "            if line[-1]=='\\n':\n",
    "                data = line[:-1].split(',')\n",
    "            else:\n",
    "                data = line.split(',')\n",
    "            features.append(data)\n",
    "            for i in range(len(features[-1])):\n",
    "                try:\n",
    "                    features[-1][i]=float(features[-1][i])\n",
    "                except:\n",
    "                    pass\n",
    "                    \n",
    "F=pd.DataFrame(features, columns=['RI','NA','Mg','Al','Si','K','Ca','Ba','Fe','labels'])  "
   ]
  },
  {
   "cell_type": "code",
   "execution_count": 3,
   "id": "d5550941",
   "metadata": {},
   "outputs": [
    {
     "data": {
      "text/html": [
       "<div>\n",
       "<style scoped>\n",
       "    .dataframe tbody tr th:only-of-type {\n",
       "        vertical-align: middle;\n",
       "    }\n",
       "\n",
       "    .dataframe tbody tr th {\n",
       "        vertical-align: top;\n",
       "    }\n",
       "\n",
       "    .dataframe thead th {\n",
       "        text-align: right;\n",
       "    }\n",
       "</style>\n",
       "<table border=\"1\" class=\"dataframe\">\n",
       "  <thead>\n",
       "    <tr style=\"text-align: right;\">\n",
       "      <th></th>\n",
       "      <th>RI</th>\n",
       "      <th>NA</th>\n",
       "      <th>Mg</th>\n",
       "      <th>Al</th>\n",
       "      <th>Si</th>\n",
       "      <th>K</th>\n",
       "      <th>Ca</th>\n",
       "      <th>Ba</th>\n",
       "      <th>Fe</th>\n",
       "      <th>labels</th>\n",
       "    </tr>\n",
       "  </thead>\n",
       "  <tbody>\n",
       "    <tr>\n",
       "      <th>0</th>\n",
       "      <td>1.51793</td>\n",
       "      <td>12.79</td>\n",
       "      <td>3.50</td>\n",
       "      <td>1.12</td>\n",
       "      <td>73.03</td>\n",
       "      <td>0.64</td>\n",
       "      <td>8.77</td>\n",
       "      <td>0.0</td>\n",
       "      <td>0.00</td>\n",
       "      <td>N</td>\n",
       "    </tr>\n",
       "    <tr>\n",
       "      <th>1</th>\n",
       "      <td>1.51643</td>\n",
       "      <td>12.16</td>\n",
       "      <td>3.52</td>\n",
       "      <td>1.35</td>\n",
       "      <td>72.89</td>\n",
       "      <td>0.57</td>\n",
       "      <td>8.53</td>\n",
       "      <td>0.0</td>\n",
       "      <td>0.00</td>\n",
       "      <td>N</td>\n",
       "    </tr>\n",
       "    <tr>\n",
       "      <th>2</th>\n",
       "      <td>1.51793</td>\n",
       "      <td>13.21</td>\n",
       "      <td>3.48</td>\n",
       "      <td>1.41</td>\n",
       "      <td>72.64</td>\n",
       "      <td>0.59</td>\n",
       "      <td>8.43</td>\n",
       "      <td>0.0</td>\n",
       "      <td>0.00</td>\n",
       "      <td>N</td>\n",
       "    </tr>\n",
       "    <tr>\n",
       "      <th>3</th>\n",
       "      <td>1.51299</td>\n",
       "      <td>14.40</td>\n",
       "      <td>1.74</td>\n",
       "      <td>1.54</td>\n",
       "      <td>74.55</td>\n",
       "      <td>0.00</td>\n",
       "      <td>7.59</td>\n",
       "      <td>0.0</td>\n",
       "      <td>0.00</td>\n",
       "      <td>N</td>\n",
       "    </tr>\n",
       "    <tr>\n",
       "      <th>4</th>\n",
       "      <td>1.53393</td>\n",
       "      <td>12.30</td>\n",
       "      <td>0.00</td>\n",
       "      <td>1.00</td>\n",
       "      <td>70.16</td>\n",
       "      <td>0.12</td>\n",
       "      <td>16.19</td>\n",
       "      <td>0.0</td>\n",
       "      <td>0.24</td>\n",
       "      <td>P</td>\n",
       "    </tr>\n",
       "    <tr>\n",
       "      <th>...</th>\n",
       "      <td>...</td>\n",
       "      <td>...</td>\n",
       "      <td>...</td>\n",
       "      <td>...</td>\n",
       "      <td>...</td>\n",
       "      <td>...</td>\n",
       "      <td>...</td>\n",
       "      <td>...</td>\n",
       "      <td>...</td>\n",
       "      <td>...</td>\n",
       "    </tr>\n",
       "    <tr>\n",
       "      <th>209</th>\n",
       "      <td>1.51610</td>\n",
       "      <td>13.42</td>\n",
       "      <td>3.40</td>\n",
       "      <td>1.22</td>\n",
       "      <td>72.69</td>\n",
       "      <td>0.59</td>\n",
       "      <td>8.32</td>\n",
       "      <td>0.0</td>\n",
       "      <td>0.00</td>\n",
       "      <td>N</td>\n",
       "    </tr>\n",
       "    <tr>\n",
       "      <th>210</th>\n",
       "      <td>1.51592</td>\n",
       "      <td>12.86</td>\n",
       "      <td>3.52</td>\n",
       "      <td>2.12</td>\n",
       "      <td>72.66</td>\n",
       "      <td>0.69</td>\n",
       "      <td>7.97</td>\n",
       "      <td>0.0</td>\n",
       "      <td>0.00</td>\n",
       "      <td>P</td>\n",
       "    </tr>\n",
       "    <tr>\n",
       "      <th>211</th>\n",
       "      <td>1.51613</td>\n",
       "      <td>13.92</td>\n",
       "      <td>3.52</td>\n",
       "      <td>1.25</td>\n",
       "      <td>72.88</td>\n",
       "      <td>0.37</td>\n",
       "      <td>7.94</td>\n",
       "      <td>0.0</td>\n",
       "      <td>0.14</td>\n",
       "      <td>P</td>\n",
       "    </tr>\n",
       "    <tr>\n",
       "      <th>212</th>\n",
       "      <td>1.51689</td>\n",
       "      <td>12.67</td>\n",
       "      <td>2.88</td>\n",
       "      <td>1.71</td>\n",
       "      <td>73.21</td>\n",
       "      <td>0.73</td>\n",
       "      <td>8.54</td>\n",
       "      <td>0.0</td>\n",
       "      <td>0.00</td>\n",
       "      <td>P</td>\n",
       "    </tr>\n",
       "    <tr>\n",
       "      <th>213</th>\n",
       "      <td>1.51852</td>\n",
       "      <td>14.09</td>\n",
       "      <td>2.19</td>\n",
       "      <td>1.66</td>\n",
       "      <td>72.67</td>\n",
       "      <td>0.00</td>\n",
       "      <td>9.32</td>\n",
       "      <td>0.0</td>\n",
       "      <td>0.00</td>\n",
       "      <td>N</td>\n",
       "    </tr>\n",
       "  </tbody>\n",
       "</table>\n",
       "<p>214 rows × 10 columns</p>\n",
       "</div>"
      ],
      "text/plain": [
       "          RI     NA    Mg    Al     Si     K     Ca   Ba    Fe labels\n",
       "0    1.51793  12.79  3.50  1.12  73.03  0.64   8.77  0.0  0.00      N\n",
       "1    1.51643  12.16  3.52  1.35  72.89  0.57   8.53  0.0  0.00      N\n",
       "2    1.51793  13.21  3.48  1.41  72.64  0.59   8.43  0.0  0.00      N\n",
       "3    1.51299  14.40  1.74  1.54  74.55  0.00   7.59  0.0  0.00      N\n",
       "4    1.53393  12.30  0.00  1.00  70.16  0.12  16.19  0.0  0.24      P\n",
       "..       ...    ...   ...   ...    ...   ...    ...  ...   ...    ...\n",
       "209  1.51610  13.42  3.40  1.22  72.69  0.59   8.32  0.0  0.00      N\n",
       "210  1.51592  12.86  3.52  2.12  72.66  0.69   7.97  0.0  0.00      P\n",
       "211  1.51613  13.92  3.52  1.25  72.88  0.37   7.94  0.0  0.14      P\n",
       "212  1.51689  12.67  2.88  1.71  73.21  0.73   8.54  0.0  0.00      P\n",
       "213  1.51852  14.09  2.19  1.66  72.67  0.00   9.32  0.0  0.00      N\n",
       "\n",
       "[214 rows x 10 columns]"
      ]
     },
     "execution_count": 3,
     "metadata": {},
     "output_type": "execute_result"
    }
   ],
   "source": [
    "F"
   ]
  },
  {
   "cell_type": "code",
   "execution_count": 4,
   "id": "f81ac9cd-583a-4613-8d3c-b5146a3e078f",
   "metadata": {},
   "outputs": [],
   "source": [
    "F1=F.drop(columns=['labels'])"
   ]
  },
  {
   "cell_type": "code",
   "execution_count": 5,
   "id": "e0db7416-7e70-4d32-aa04-431a8bfbdc9e",
   "metadata": {},
   "outputs": [
    {
     "data": {
      "text/html": [
       "<div>\n",
       "<style scoped>\n",
       "    .dataframe tbody tr th:only-of-type {\n",
       "        vertical-align: middle;\n",
       "    }\n",
       "\n",
       "    .dataframe tbody tr th {\n",
       "        vertical-align: top;\n",
       "    }\n",
       "\n",
       "    .dataframe thead th {\n",
       "        text-align: right;\n",
       "    }\n",
       "</style>\n",
       "<table border=\"1\" class=\"dataframe\">\n",
       "  <thead>\n",
       "    <tr style=\"text-align: right;\">\n",
       "      <th></th>\n",
       "      <th>RI</th>\n",
       "      <th>NA</th>\n",
       "      <th>Mg</th>\n",
       "      <th>Al</th>\n",
       "      <th>Si</th>\n",
       "      <th>K</th>\n",
       "      <th>Ca</th>\n",
       "      <th>Ba</th>\n",
       "      <th>Fe</th>\n",
       "    </tr>\n",
       "  </thead>\n",
       "  <tbody>\n",
       "    <tr>\n",
       "      <th>RI</th>\n",
       "      <td>1.00</td>\n",
       "      <td>-0.19</td>\n",
       "      <td>-0.12</td>\n",
       "      <td>-0.41</td>\n",
       "      <td>-0.54</td>\n",
       "      <td>-0.29</td>\n",
       "      <td>0.81</td>\n",
       "      <td>-0.00</td>\n",
       "      <td>0.14</td>\n",
       "    </tr>\n",
       "    <tr>\n",
       "      <th>NA</th>\n",
       "      <td>-0.19</td>\n",
       "      <td>1.00</td>\n",
       "      <td>-0.27</td>\n",
       "      <td>0.16</td>\n",
       "      <td>-0.07</td>\n",
       "      <td>-0.27</td>\n",
       "      <td>-0.28</td>\n",
       "      <td>0.33</td>\n",
       "      <td>-0.24</td>\n",
       "    </tr>\n",
       "    <tr>\n",
       "      <th>Mg</th>\n",
       "      <td>-0.12</td>\n",
       "      <td>-0.27</td>\n",
       "      <td>1.00</td>\n",
       "      <td>-0.48</td>\n",
       "      <td>-0.17</td>\n",
       "      <td>0.01</td>\n",
       "      <td>-0.44</td>\n",
       "      <td>-0.49</td>\n",
       "      <td>0.08</td>\n",
       "    </tr>\n",
       "    <tr>\n",
       "      <th>Al</th>\n",
       "      <td>-0.41</td>\n",
       "      <td>0.16</td>\n",
       "      <td>-0.48</td>\n",
       "      <td>1.00</td>\n",
       "      <td>-0.01</td>\n",
       "      <td>0.33</td>\n",
       "      <td>-0.26</td>\n",
       "      <td>0.48</td>\n",
       "      <td>-0.07</td>\n",
       "    </tr>\n",
       "    <tr>\n",
       "      <th>Si</th>\n",
       "      <td>-0.54</td>\n",
       "      <td>-0.07</td>\n",
       "      <td>-0.17</td>\n",
       "      <td>-0.01</td>\n",
       "      <td>1.00</td>\n",
       "      <td>-0.19</td>\n",
       "      <td>-0.21</td>\n",
       "      <td>-0.10</td>\n",
       "      <td>-0.09</td>\n",
       "    </tr>\n",
       "    <tr>\n",
       "      <th>K</th>\n",
       "      <td>-0.29</td>\n",
       "      <td>-0.27</td>\n",
       "      <td>0.01</td>\n",
       "      <td>0.33</td>\n",
       "      <td>-0.19</td>\n",
       "      <td>1.00</td>\n",
       "      <td>-0.32</td>\n",
       "      <td>-0.04</td>\n",
       "      <td>-0.01</td>\n",
       "    </tr>\n",
       "    <tr>\n",
       "      <th>Ca</th>\n",
       "      <td>0.81</td>\n",
       "      <td>-0.28</td>\n",
       "      <td>-0.44</td>\n",
       "      <td>-0.26</td>\n",
       "      <td>-0.21</td>\n",
       "      <td>-0.32</td>\n",
       "      <td>1.00</td>\n",
       "      <td>-0.11</td>\n",
       "      <td>0.12</td>\n",
       "    </tr>\n",
       "    <tr>\n",
       "      <th>Ba</th>\n",
       "      <td>-0.00</td>\n",
       "      <td>0.33</td>\n",
       "      <td>-0.49</td>\n",
       "      <td>0.48</td>\n",
       "      <td>-0.10</td>\n",
       "      <td>-0.04</td>\n",
       "      <td>-0.11</td>\n",
       "      <td>1.00</td>\n",
       "      <td>-0.06</td>\n",
       "    </tr>\n",
       "    <tr>\n",
       "      <th>Fe</th>\n",
       "      <td>0.14</td>\n",
       "      <td>-0.24</td>\n",
       "      <td>0.08</td>\n",
       "      <td>-0.07</td>\n",
       "      <td>-0.09</td>\n",
       "      <td>-0.01</td>\n",
       "      <td>0.12</td>\n",
       "      <td>-0.06</td>\n",
       "      <td>1.00</td>\n",
       "    </tr>\n",
       "  </tbody>\n",
       "</table>\n",
       "</div>"
      ],
      "text/plain": [
       "      RI    NA    Mg    Al    Si     K    Ca    Ba    Fe\n",
       "RI  1.00 -0.19 -0.12 -0.41 -0.54 -0.29  0.81 -0.00  0.14\n",
       "NA -0.19  1.00 -0.27  0.16 -0.07 -0.27 -0.28  0.33 -0.24\n",
       "Mg -0.12 -0.27  1.00 -0.48 -0.17  0.01 -0.44 -0.49  0.08\n",
       "Al -0.41  0.16 -0.48  1.00 -0.01  0.33 -0.26  0.48 -0.07\n",
       "Si -0.54 -0.07 -0.17 -0.01  1.00 -0.19 -0.21 -0.10 -0.09\n",
       "K  -0.29 -0.27  0.01  0.33 -0.19  1.00 -0.32 -0.04 -0.01\n",
       "Ca  0.81 -0.28 -0.44 -0.26 -0.21 -0.32  1.00 -0.11  0.12\n",
       "Ba -0.00  0.33 -0.49  0.48 -0.10 -0.04 -0.11  1.00 -0.06\n",
       "Fe  0.14 -0.24  0.08 -0.07 -0.09 -0.01  0.12 -0.06  1.00"
      ]
     },
     "execution_count": 5,
     "metadata": {},
     "output_type": "execute_result"
    }
   ],
   "source": [
    "F1.corr().round(2)"
   ]
  },
  {
   "cell_type": "code",
   "execution_count": 6,
   "id": "0156f834",
   "metadata": {},
   "outputs": [
    {
     "data": {
      "text/plain": [
       "0.0004827752432423349"
      ]
     },
     "execution_count": 6,
     "metadata": {},
     "output_type": "execute_result"
    }
   ],
   "source": [
    "np.linalg.det(F1.corr().round(2).values)"
   ]
  },
  {
   "cell_type": "code",
   "execution_count": 7,
   "id": "a3349d99",
   "metadata": {},
   "outputs": [
    {
     "data": {
      "image/png": "[encoded data removed]",
      "text/plain": [
       "<Figure size 640x480 with 2 Axes>"
      ]
     },
     "metadata": {},
     "output_type": "display_data"
    }
   ],
   "source": [
    "dataplot = sns.heatmap(F1.corr().round(2), cmap=\"crest\", annot=True)"
   ]
  },
  {
   "cell_type": "markdown",
   "id": "c33cf4d2",
   "metadata": {},
   "source": [
    "# Тест на нормальное распределение признаков"
   ]
  },
  {
   "cell_type": "code",
   "execution_count": 8,
   "id": "1ecefbd5",
   "metadata": {},
   "outputs": [
    {
     "name": "stdout",
     "output_type": "stream",
     "text": [
      "ShapiroResult(statistic=0.8675722824224852, pvalue=1.0766712928974077e-12)\n",
      "ShapiroResult(statistic=0.945762306985968, pvalue=3.4655426922939914e-07)\n",
      "ShapiroResult(statistic=0.6993364173009177, pvalue=2.390921270062536e-19)\n",
      "ShapiroResult(statistic=0.9434125977963359, pvalue=2.083156241596038e-07)\n",
      "ShapiroResult(statistic=0.9196619139626916, pvalue=2.175031659381859e-09)\n",
      "ShapiroResult(statistic=0.44161768779031496, pvalue=2.172188035682615e-25)\n",
      "ShapiroResult(statistic=0.793867908360201, pvalue=4.286584041376024e-16)\n",
      "ShapiroResult(statistic=0.4085650688572169, pvalue=5.383301973907288e-26)\n",
      "ShapiroResult(statistic=0.6532001093351217, pvalue=1.1566680199469558e-20)\n"
     ]
    }
   ],
   "source": [
    "for col in F1.columns:\n",
    "    print(stats.shapiro(F1[col]))"
   ]
  },
  {
   "cell_type": "code",
   "execution_count": 9,
   "id": "9b26b099",
   "metadata": {},
   "outputs": [],
   "source": [
    "F_np=F1.values"
   ]
  },
  {
   "cell_type": "code",
   "execution_count": 10,
   "id": "5243a046-ba35-4486-9d0b-9c956644f2c9",
   "metadata": {},
   "outputs": [],
   "source": [
    "log_F = np.log(F_np+np.full(F_np.shape, 1e-6))"
   ]
  },
  {
   "cell_type": "code",
   "execution_count": 11,
   "id": "545890d1-cfb2-44f3-b49b-2e740728350d",
   "metadata": {},
   "outputs": [
    {
     "data": {
      "text/plain": [
       "array([[  0.41734822,   2.54866369,   1.25276325, ...,   2.17133692,\n",
       "        -13.81551056, -13.81551056],\n",
       "       [  0.41635955,   2.49815196,   1.25846127, ...,   2.14358948,\n",
       "        -13.81551056, -13.81551056],\n",
       "       [  0.41734822,   2.58097419,   1.24703258, ...,   2.13179689,\n",
       "        -13.81551056, -13.81551056],\n",
       "       ...,\n",
       "       [  0.4161617 ,   2.63332673,   1.25846127, ...,   2.0719134 ,\n",
       "        -13.81551056,  -1.96610571],\n",
       "       [  0.41666285,   2.53923707,   1.05779064, ...,   2.14476112,\n",
       "        -13.81551056, -13.81551056],\n",
       "       [  0.41773683,   2.6454654 ,   0.783902  , ...,   2.23216274,\n",
       "        -13.81551056, -13.81551056]])"
      ]
     },
     "execution_count": 11,
     "metadata": {},
     "output_type": "execute_result"
    }
   ],
   "source": [
    "log_F"
   ]
  },
  {
   "cell_type": "code",
   "execution_count": 12,
   "id": "694617d7-379e-4c85-b3b6-161847a7516c",
   "metadata": {},
   "outputs": [
    {
     "name": "stdout",
     "output_type": "stream",
     "text": [
      "ShapiroResult(statistic=0.8686667828674778, pvalue=1.234798136482314e-12)\n",
      "ShapiroResult(statistic=0.9500171432905523, pvalue=8.999987755403209e-07)\n",
      "ShapiroResult(statistic=0.509504463760901, pvalue=4.728342272449703e-24)\n",
      "ShapiroResult(statistic=0.9427557974066859, pvalue=1.810823766350035e-07)\n",
      "ShapiroResult(statistic=0.9168881205723496, pvalue=1.3516776555211859e-09)\n",
      "ShapiroResult(statistic=0.5490436690607463, pvalue=3.322791178791935e-23)\n",
      "ShapiroResult(statistic=0.8648062221124744, pvalue=7.641256310836631e-13)\n",
      "ShapiroResult(statistic=0.47884894798056776, pvalue=1.131994804257362e-24)\n",
      "ShapiroResult(statistic=0.6144322516821475, pvalue=1.1392992560383952e-21)\n"
     ]
    }
   ],
   "source": [
    "for i in range(len(log_F[0])):\n",
    "    print(stats.shapiro(log_F[:,i]))"
   ]
  },
  {
   "cell_type": "code",
   "execution_count": 13,
   "id": "230b60d5",
   "metadata": {},
   "outputs": [],
   "source": [
    "F_labels = list(F['labels'])\n",
    "for i in range(len(F_labels)):\n",
    "    if F_labels[i]==\"N\":\n",
    "        F_labels[i] = 0\n",
    "    if F_labels[i]==\"P\":\n",
    "        F_labels[i] = 1"
   ]
  },
  {
   "cell_type": "code",
   "execution_count": 14,
   "id": "d0cda679",
   "metadata": {},
   "outputs": [
    {
     "name": "stdout",
     "output_type": "stream",
     "text": [
      "Число разных классов для датасета: 2\n"
     ]
    }
   ],
   "source": [
    "print(f\"Число разных классов для датасета: {len(set(F_labels))}\")"
   ]
  },
  {
   "cell_type": "markdown",
   "id": "df232926",
   "metadata": {},
   "source": [
    "# Оценим, какая модель наилучшим образом решит задачу классификации для данного набора данных."
   ]
  },
  {
   "cell_type": "code",
   "execution_count": 15,
   "id": "35c88656",
   "metadata": {},
   "outputs": [
    {
     "name": "stdout",
     "output_type": "stream",
     "text": [
      "Параметры для случайного леса: {'max_depth': None, 'n_estimators': 200}\n",
      "Параметры для CatBoost: {'depth': 6, 'iterations': 300, 'learning_rate': 0.1}\n",
      "Параметры для LightGBM: {'learning_rate': 0.1, 'max_depth': 9, 'n_estimators': 300}\n",
      "Параметры для AdaBoost: {'n_estimators': 200}\n"
     ]
    }
   ],
   "source": [
    "initial_results = solver.initial_estimates(F_np, F_labels)\n",
    "methods = ['Случайный лес','CatBoost','LightGBM','AdaBoost']"
   ]
  },
  {
   "cell_type": "code",
   "execution_count": 16,
   "id": "55d9b821",
   "metadata": {},
   "outputs": [],
   "source": [
    "initial_results_df=pd.DataFrame(initial_results, columns=['F1-мера', 'Precision', 'Recall', 'ROC-AUC'], index=methods)"
   ]
  },
  {
   "cell_type": "code",
   "execution_count": 17,
   "id": "f1272229",
   "metadata": {},
   "outputs": [
    {
     "data": {
      "text/html": [
       "<div>\n",
       "<style scoped>\n",
       "    .dataframe tbody tr th:only-of-type {\n",
       "        vertical-align: middle;\n",
       "    }\n",
       "\n",
       "    .dataframe tbody tr th {\n",
       "        vertical-align: top;\n",
       "    }\n",
       "\n",
       "    .dataframe thead th {\n",
       "        text-align: right;\n",
       "    }\n",
       "</style>\n",
       "<table border=\"1\" class=\"dataframe\">\n",
       "  <thead>\n",
       "    <tr style=\"text-align: right;\">\n",
       "      <th></th>\n",
       "      <th>F1-мера</th>\n",
       "      <th>Precision</th>\n",
       "      <th>Recall</th>\n",
       "      <th>ROC-AUC</th>\n",
       "    </tr>\n",
       "  </thead>\n",
       "  <tbody>\n",
       "    <tr>\n",
       "      <th>LightGBM</th>\n",
       "      <td>0.751</td>\n",
       "      <td>0.759</td>\n",
       "      <td>0.750</td>\n",
       "      <td>0.870</td>\n",
       "    </tr>\n",
       "    <tr>\n",
       "      <th>CatBoost</th>\n",
       "      <td>0.750</td>\n",
       "      <td>0.794</td>\n",
       "      <td>0.711</td>\n",
       "      <td>0.906</td>\n",
       "    </tr>\n",
       "    <tr>\n",
       "      <th>Случайный лес</th>\n",
       "      <td>0.741</td>\n",
       "      <td>0.855</td>\n",
       "      <td>0.657</td>\n",
       "      <td>0.887</td>\n",
       "    </tr>\n",
       "    <tr>\n",
       "      <th>AdaBoost</th>\n",
       "      <td>0.692</td>\n",
       "      <td>0.714</td>\n",
       "      <td>0.683</td>\n",
       "      <td>0.773</td>\n",
       "    </tr>\n",
       "  </tbody>\n",
       "</table>\n",
       "</div>"
      ],
      "text/plain": [
       "               F1-мера  Precision  Recall  ROC-AUC\n",
       "LightGBM         0.751      0.759   0.750    0.870\n",
       "CatBoost         0.750      0.794   0.711    0.906\n",
       "Случайный лес    0.741      0.855   0.657    0.887\n",
       "AdaBoost         0.692      0.714   0.683    0.773"
      ]
     },
     "execution_count": 17,
     "metadata": {},
     "output_type": "execute_result"
    }
   ],
   "source": [
    "initial_results_df.sort_values(by=['F1-мера'],ascending=False).round(decimals=3)"
   ]
  },
  {
   "cell_type": "markdown",
   "id": "16060112-4c38-4e79-a4da-a9af2e7231de",
   "metadata": {},
   "source": [
    "# Добавим пропуски в данные (60% по столбцам 2-5, 8-9)"
   ]
  },
  {
   "cell_type": "code",
   "execution_count": 18,
   "id": "adad28da",
   "metadata": {},
   "outputs": [],
   "source": [
    "# Создаем версию датасета с абсолютно случайными пропусками, т.е. независящими от наблюдаемых данных, 60% пропусков\n",
    "D_MCAR = mvt.MCAR(F_np, [1,2,3,4,7,8], [int(6*len(F_np)/10)]*6)\n",
    "Full_D_MCAR = {}\n",
    "Full_D_MCAR['mean_fill'] = mvt.mean_fill(D_MCAR)\n",
    "Full_D_MCAR['stoch_lr_fill'] = mvt.lr_fill(D_MCAR, noise=True)\n",
    "Full_D_MCAR['em_fill'] = mvt.EM(D_MCAR)\n",
    "Full_D_MCAR['bootstrap_fill'] = mvt.bootstrap_fill(D_MCAR)\n",
    "Full_D_MCAR['KNN_fill'] = mvt.knn_fill(D_MCAR)\n",
    "#Full_D_MCAR['KNN_fill2'] = mvt.knn_fill(D_MCAR, weights='distance')\n",
    "Full_D_MCAR['iterative_fill_LR'] = mvt.iterative_fill(D_MCAR, 'LR')\n",
    "Full_D_MCAR['iterative_fill_RF'] = mvt.iterative_fill(D_MCAR, 'RF')"
   ]
  },
  {
   "cell_type": "code",
   "execution_count": 19,
   "id": "7ab7ee60",
   "metadata": {},
   "outputs": [],
   "source": [
    "# Создаем версию датасета со случайными пропусками, x_i,j становится пропуском, если x_i1 меньше квантиля 0.6 для признака x1\n",
    "# j ∈ {2,3,4,5,8,9}\n",
    "D_MAR = mvt.MAR(F_np, indicator=0, mis_cols=[1,2,3,4,7,8], thresh=np.quantile(F_np[:,0], 0.6), to_remove='<')\n",
    "Full_D_MAR = {}\n",
    "Full_D_MAR['mean_fill'] = mvt.mean_fill(D_MAR)\n",
    "Full_D_MAR['stoch_lr_fill'] = mvt.lr_fill(D_MAR, noise=True)\n",
    "Full_D_MAR['em_fill'] = mvt.EM(D_MAR)\n",
    "Full_D_MAR['bootstrap_fill'] = mvt.bootstrap_fill(D_MAR)\n",
    "Full_D_MAR['KNN_fill'] = mvt.knn_fill(D_MAR)\n",
    "#Full_D_MAR['KNN_fill2'] = mvt.knn_fill(D_MAR, weights='distance')\n",
    "Full_D_MAR['iterative_fill_LR'] = mvt.iterative_fill(D_MAR, 'LR')\n",
    "Full_D_MAR['iterative_fill_RF'] = mvt.iterative_fill(D_MAR, 'RF')"
   ]
  },
  {
   "cell_type": "code",
   "execution_count": 20,
   "id": "b1240c2e-b6c5-4220-82b2-0b4a3812d287",
   "metadata": {},
   "outputs": [],
   "source": [
    "# Создаем версию датасета со случайными пропусками, x_ij становится пропуском, если x_ij меньше квантиля 0.6 для признака x1\n",
    "# j ∈ {2,3,4,5,8,9}\n",
    "D_MNAR = mvt.MNAR(F_np, mis_cols={1:np.quantile(F_np[:,1], 0.6),\n",
    "                                  2:np.quantile(F_np[:,2], 0.6),\n",
    "                                  3:np.quantile(F_np[:,3], 0.6),\n",
    "                                  4:np.quantile(F_np[:,4], 0.6), \n",
    "                                  7:np.quantile(F_np[:,7], 0.6),\n",
    "                                  8:np.quantile(F_np[:,8], 0.6)},  to_remove='<')\n",
    "Full_D_MNAR = {}\n",
    "Full_D_MNAR['mean_fill'] = mvt.mean_fill(D_MNAR)\n",
    "Full_D_MNAR['stoch_lr_fill'] = mvt.lr_fill(D_MNAR, noise=True)\n",
    "Full_D_MNAR['em_fill'] = mvt.EM(D_MNAR)\n",
    "Full_D_MNAR['bootstrap_fill'] = mvt.bootstrap_fill(D_MNAR)\n",
    "Full_D_MNAR['KNN_fill'] = mvt.knn_fill(D_MNAR)\n",
    "Full_D_MNAR['iterative_fill_LR'] = mvt.iterative_fill(D_MNAR, 'LR')\n",
    "Full_D_MNAR['iterative_fill_RF'] = mvt.iterative_fill(D_MNAR, 'RF')"
   ]
  },
  {
   "cell_type": "code",
   "execution_count": 21,
   "id": "53401b66",
   "metadata": {},
   "outputs": [],
   "source": [
    "df_index = ['Заполнение средним', 'Стохастическое заполнение ЛР', 'EM-алгоритм', 'Бутстрап', 'Метод ближайших соседей', 'Итеративное заполнение, ЛР', 'Итеративное заполнение, случайный лес', 'LightGBM','Catboost']\n",
    "df_index2 = ['Заполнение средним', 'Стохастическое заполнение ЛР', 'EM-алгоритм', 'Бутстрап', 'Метод ближайших соседей', 'Метод ближайших соседей, взвешенный', 'Итеративное заполнение, ЛР', 'Итеративное заполнение, случайный лес', 'LightGBM','Catboost']\n",
    "df_columns = ['MCAR','MAR', 'MNAR']"
   ]
  },
  {
   "cell_type": "markdown",
   "id": "92763b46",
   "metadata": {},
   "source": [
    "# Решим задачу классификации, чтобы оценить качество заполнения."
   ]
  },
  {
   "cell_type": "code",
   "execution_count": 22,
   "id": "30fd9ffb",
   "metadata": {},
   "outputs": [],
   "source": [
    "MCAR_column = solver.estimates(Full_D_MCAR, F_labels).reshape(-1,1)\n",
    "MAR_column = solver.estimates(Full_D_MAR, F_labels).reshape(-1,1)\n",
    "MNAR_column = solver.estimates(Full_D_MNAR, F_labels).reshape(-1,1)"
   ]
  },
  {
   "cell_type": "code",
   "execution_count": 23,
   "id": "566e8d8f",
   "metadata": {},
   "outputs": [],
   "source": [
    "values=np.hstack((MCAR_column, MAR_column, MNAR_column))"
   ]
  },
  {
   "cell_type": "code",
   "execution_count": 24,
   "id": "af61f139",
   "metadata": {},
   "outputs": [],
   "source": [
    "overall_results=pd.DataFrame(values, columns=df_columns, index=df_index)"
   ]
  },
  {
   "cell_type": "code",
   "execution_count": 25,
   "id": "7ac2a8d1",
   "metadata": {},
   "outputs": [
    {
     "data": {
      "text/html": [
       "<div>\n",
       "<style scoped>\n",
       "    .dataframe tbody tr th:only-of-type {\n",
       "        vertical-align: middle;\n",
       "    }\n",
       "\n",
       "    .dataframe tbody tr th {\n",
       "        vertical-align: top;\n",
       "    }\n",
       "\n",
       "    .dataframe thead th {\n",
       "        text-align: right;\n",
       "    }\n",
       "</style>\n",
       "<table border=\"1\" class=\"dataframe\">\n",
       "  <thead>\n",
       "    <tr style=\"text-align: right;\">\n",
       "      <th></th>\n",
       "      <th>MCAR</th>\n",
       "      <th>MAR</th>\n",
       "      <th>MNAR</th>\n",
       "    </tr>\n",
       "  </thead>\n",
       "  <tbody>\n",
       "    <tr>\n",
       "      <th>Заполнение средним</th>\n",
       "      <td>0.695</td>\n",
       "      <td>0.694</td>\n",
       "      <td>0.684</td>\n",
       "    </tr>\n",
       "    <tr>\n",
       "      <th>Стохастическое заполнение ЛР</th>\n",
       "      <td>0.701</td>\n",
       "      <td>0.717</td>\n",
       "      <td>0.694</td>\n",
       "    </tr>\n",
       "    <tr>\n",
       "      <th>EM-алгоритм</th>\n",
       "      <td>0.729</td>\n",
       "      <td>0.723</td>\n",
       "      <td>0.653</td>\n",
       "    </tr>\n",
       "    <tr>\n",
       "      <th>Бутстрап</th>\n",
       "      <td>0.656</td>\n",
       "      <td>0.702</td>\n",
       "      <td>0.641</td>\n",
       "    </tr>\n",
       "    <tr>\n",
       "      <th>Метод ближайших соседей</th>\n",
       "      <td>0.681</td>\n",
       "      <td>0.730</td>\n",
       "      <td>0.690</td>\n",
       "    </tr>\n",
       "    <tr>\n",
       "      <th>Итеративное заполнение, ЛР</th>\n",
       "      <td>0.722</td>\n",
       "      <td>0.714</td>\n",
       "      <td>0.676</td>\n",
       "    </tr>\n",
       "    <tr>\n",
       "      <th>Итеративное заполнение, случайный лес</th>\n",
       "      <td>0.681</td>\n",
       "      <td>0.707</td>\n",
       "      <td>0.625</td>\n",
       "    </tr>\n",
       "    <tr>\n",
       "      <th>LightGBM</th>\n",
       "      <td>0.681</td>\n",
       "      <td>0.707</td>\n",
       "      <td>0.625</td>\n",
       "    </tr>\n",
       "    <tr>\n",
       "      <th>Catboost</th>\n",
       "      <td>0.696</td>\n",
       "      <td>0.759</td>\n",
       "      <td>0.632</td>\n",
       "    </tr>\n",
       "  </tbody>\n",
       "</table>\n",
       "</div>"
      ],
      "text/plain": [
       "                                        MCAR    MAR   MNAR\n",
       "Заполнение средним                     0.695  0.694  0.684\n",
       "Стохастическое заполнение ЛР           0.701  0.717  0.694\n",
       "EM-алгоритм                            0.729  0.723  0.653\n",
       "Бутстрап                               0.656  0.702  0.641\n",
       "Метод ближайших соседей                0.681  0.730  0.690\n",
       "Итеративное заполнение, ЛР             0.722  0.714  0.676\n",
       "Итеративное заполнение, случайный лес  0.681  0.707  0.625\n",
       "LightGBM                               0.681  0.707  0.625\n",
       "Catboost                               0.696  0.759  0.632"
      ]
     },
     "execution_count": 25,
     "metadata": {},
     "output_type": "execute_result"
    }
   ],
   "source": [
    "overall_results.round(decimals=3)"
   ]
  },
  {
   "cell_type": "code",
   "execution_count": 26,
   "id": "cab450f8",
   "metadata": {},
   "outputs": [],
   "source": [
    "proximity_array = np.zeros((len(df_index)-2, len(df_columns)))\n",
    "for i, item in enumerate(Full_D_MCAR.keys()):\n",
    "    proximity_array[i,0] = solver.proximity_estimate(F_np, Full_D_MCAR[item], D_MCAR)\n",
    "for i, item in enumerate(Full_D_MAR.keys()):\n",
    "    proximity_array[i,1] = solver.proximity_estimate(F_np, Full_D_MAR[item], D_MAR)\n",
    "for i, item in enumerate(Full_D_MNAR.keys()):\n",
    "    proximity_array[i,2] = solver.proximity_estimate(F_np, Full_D_MNAR[item], D_MNAR)\n",
    "df_proximity = pd.DataFrame(proximity_array, columns=df_columns, index=df_index[:-2])"
   ]
  },
  {
   "cell_type": "code",
   "execution_count": 27,
   "id": "0920c6e2",
   "metadata": {},
   "outputs": [
    {
     "data": {
      "text/html": [
       "<div>\n",
       "<style scoped>\n",
       "    .dataframe tbody tr th:only-of-type {\n",
       "        vertical-align: middle;\n",
       "    }\n",
       "\n",
       "    .dataframe tbody tr th {\n",
       "        vertical-align: top;\n",
       "    }\n",
       "\n",
       "    .dataframe thead th {\n",
       "        text-align: right;\n",
       "    }\n",
       "</style>\n",
       "<table border=\"1\" class=\"dataframe\">\n",
       "  <thead>\n",
       "    <tr style=\"text-align: right;\">\n",
       "      <th></th>\n",
       "      <th>MCAR</th>\n",
       "      <th>MAR</th>\n",
       "      <th>MNAR</th>\n",
       "    </tr>\n",
       "  </thead>\n",
       "  <tbody>\n",
       "    <tr>\n",
       "      <th>Заполнение средним</th>\n",
       "      <td>0.029</td>\n",
       "      <td>0.030</td>\n",
       "      <td>0.044</td>\n",
       "    </tr>\n",
       "    <tr>\n",
       "      <th>Стохастическое заполнение ЛР</th>\n",
       "      <td>0.027</td>\n",
       "      <td>0.034</td>\n",
       "      <td>0.046</td>\n",
       "    </tr>\n",
       "    <tr>\n",
       "      <th>EM-алгоритм</th>\n",
       "      <td>0.025</td>\n",
       "      <td>0.032</td>\n",
       "      <td>0.041</td>\n",
       "    </tr>\n",
       "    <tr>\n",
       "      <th>Бутстрап</th>\n",
       "      <td>0.038</td>\n",
       "      <td>0.042</td>\n",
       "      <td>0.048</td>\n",
       "    </tr>\n",
       "    <tr>\n",
       "      <th>Метод ближайших соседей</th>\n",
       "      <td>0.023</td>\n",
       "      <td>0.028</td>\n",
       "      <td>0.041</td>\n",
       "    </tr>\n",
       "    <tr>\n",
       "      <th>Итеративное заполнение, ЛР</th>\n",
       "      <td>0.031</td>\n",
       "      <td>0.036</td>\n",
       "      <td>0.043</td>\n",
       "    </tr>\n",
       "    <tr>\n",
       "      <th>Итеративное заполнение, случайный лес</th>\n",
       "      <td>0.025</td>\n",
       "      <td>0.028</td>\n",
       "      <td>0.045</td>\n",
       "    </tr>\n",
       "  </tbody>\n",
       "</table>\n",
       "</div>"
      ],
      "text/plain": [
       "                                        MCAR    MAR   MNAR\n",
       "Заполнение средним                     0.029  0.030  0.044\n",
       "Стохастическое заполнение ЛР           0.027  0.034  0.046\n",
       "EM-алгоритм                            0.025  0.032  0.041\n",
       "Бутстрап                               0.038  0.042  0.048\n",
       "Метод ближайших соседей                0.023  0.028  0.041\n",
       "Итеративное заполнение, ЛР             0.031  0.036  0.043\n",
       "Итеративное заполнение, случайный лес  0.025  0.028  0.045"
      ]
     },
     "execution_count": 27,
     "metadata": {},
     "output_type": "execute_result"
    }
   ],
   "source": [
    "df_proximity.round(decimals=3)"
   ]
  },
  {
   "cell_type": "code",
   "execution_count": null,
   "id": "a6a4f527-7f26-4ba3-9f15-70c5533646e7",
   "metadata": {},
   "outputs": [],
   "source": []
  },
  {
   "cell_type": "code",
   "execution_count": 29,
   "id": "44ecf9e8-acea-4116-9a89-9ea6eca0ad92",
   "metadata": {},
   "outputs": [],
   "source": [
    "from sklearn.model_selection import train_test_split"
   ]
  },
  {
   "cell_type": "code",
   "execution_count": 32,
   "id": "205edc0e-efe3-43a5-8a5e-a0a56e408049",
   "metadata": {},
   "outputs": [],
   "source": [
    "X_train, X_test, y_train, y_test = train_test_split(F_np, F_labels, stratify=F_labels, random_state=42)"
   ]
  },
  {
   "cell_type": "code",
   "execution_count": 33,
   "id": "2658d8ee-4152-45c7-9e31-3a69430d016c",
   "metadata": {},
   "outputs": [
    {
     "data": {
      "text/html": [
       "<style>#sk-container-id-1 {color: black;background-color: white;}#sk-container-id-1 pre{padding: 0;}#sk-container-id-1 div.sk-toggleable {background-color: white;}#sk-container-id-1 label.sk-toggleable__label {cursor: pointer;display: block;width: 100%;margin-bottom: 0;padding: 0.3em;box-sizing: border-box;text-align: center;}#sk-container-id-1 label.sk-toggleable__label-arrow:before {content: \"▸\";float: left;margin-right: 0.25em;color: #696969;}#sk-container-id-1 label.sk-toggleable__label-arrow:hover:before {color: black;}#sk-container-id-1 div.sk-estimator:hover label.sk-toggleable__label-arrow:before {color: black;}#sk-container-id-1 div.sk-toggleable__content {max-height: 0;max-width: 0;overflow: hidden;text-align: left;background-color: #f0f8ff;}#sk-container-id-1 div.sk-toggleable__content pre {margin: 0.2em;color: black;border-radius: 0.25em;background-color: #f0f8ff;}#sk-container-id-1 input.sk-toggleable__control:checked~div.sk-toggleable__content {max-height: 200px;max-width: 100%;overflow: auto;}#sk-container-id-1 input.sk-toggleable__control:checked~label.sk-toggleable__label-arrow:before {content: \"▾\";}#sk-container-id-1 div.sk-estimator input.sk-toggleable__control:checked~label.sk-toggleable__label {background-color: #d4ebff;}#sk-container-id-1 div.sk-label input.sk-toggleable__control:checked~label.sk-toggleable__label {background-color: #d4ebff;}#sk-container-id-1 input.sk-hidden--visually {border: 0;clip: rect(1px 1px 1px 1px);clip: rect(1px, 1px, 1px, 1px);height: 1px;margin: -1px;overflow: hidden;padding: 0;position: absolute;width: 1px;}#sk-container-id-1 div.sk-estimator {font-family: monospace;background-color: #f0f8ff;border: 1px dotted black;border-radius: 0.25em;box-sizing: border-box;margin-bottom: 0.5em;}#sk-container-id-1 div.sk-estimator:hover {background-color: #d4ebff;}#sk-container-id-1 div.sk-parallel-item::after {content: \"\";width: 100%;border-bottom: 1px solid gray;flex-grow: 1;}#sk-container-id-1 div.sk-label:hover label.sk-toggleable__label {background-color: #d4ebff;}#sk-container-id-1 div.sk-serial::before {content: \"\";position: absolute;border-left: 1px solid gray;box-sizing: border-box;top: 0;bottom: 0;left: 50%;z-index: 0;}#sk-container-id-1 div.sk-serial {display: flex;flex-direction: column;align-items: center;background-color: white;padding-right: 0.2em;padding-left: 0.2em;position: relative;}#sk-container-id-1 div.sk-item {position: relative;z-index: 1;}#sk-container-id-1 div.sk-parallel {display: flex;align-items: stretch;justify-content: center;background-color: white;position: relative;}#sk-container-id-1 div.sk-item::before, #sk-container-id-1 div.sk-parallel-item::before {content: \"\";position: absolute;border-left: 1px solid gray;box-sizing: border-box;top: 0;bottom: 0;left: 50%;z-index: -1;}#sk-container-id-1 div.sk-parallel-item {display: flex;flex-direction: column;z-index: 1;position: relative;background-color: white;}#sk-container-id-1 div.sk-parallel-item:first-child::after {align-self: flex-end;width: 50%;}#sk-container-id-1 div.sk-parallel-item:last-child::after {align-self: flex-start;width: 50%;}#sk-container-id-1 div.sk-parallel-item:only-child::after {width: 0;}#sk-container-id-1 div.sk-dashed-wrapped {border: 1px dashed gray;margin: 0 0.4em 0.5em 0.4em;box-sizing: border-box;padding-bottom: 0.4em;background-color: white;}#sk-container-id-1 div.sk-label label {font-family: monospace;font-weight: bold;display: inline-block;line-height: 1.2em;}#sk-container-id-1 div.sk-label-container {text-align: center;}#sk-container-id-1 div.sk-container {/* jupyter's `normalize.less` sets `[hidden] { display: none; }` but bootstrap.min.css set `[hidden] { display: none !important; }` so we also need the `!important` here to be able to override the default hidden behavior on the sphinx rendered scikit-learn.org. See: https://github.com/scikit-learn/scikit-learn/issues/21755 */display: inline-block !important;position: relative;}#sk-container-id-1 div.sk-text-repr-fallback {display: none;}</style><div id=\"sk-container-id-1\" class=\"sk-top-container\"><div class=\"sk-text-repr-fallback\"><pre>RandomForestClassifier(random_state=0)</pre><b>In a Jupyter environment, please rerun this cell to show the HTML representation or trust the notebook. <br />On GitHub, the HTML representation is unable to render, please try loading this page with nbviewer.org.</b></div><div class=\"sk-container\" hidden><div class=\"sk-item\"><div class=\"sk-estimator sk-toggleable\"><input class=\"sk-toggleable__control sk-hidden--visually\" id=\"sk-estimator-id-1\" type=\"checkbox\" checked><label for=\"sk-estimator-id-1\" class=\"sk-toggleable__label sk-toggleable__label-arrow\">RandomForestClassifier</label><div class=\"sk-toggleable__content\"><pre>RandomForestClassifier(random_state=0)</pre></div></div></div></div></div>"
      ],
      "text/plain": [
       "RandomForestClassifier(random_state=0)"
      ]
     },
     "execution_count": 33,
     "metadata": {},
     "output_type": "execute_result"
    }
   ],
   "source": [
    "from sklearn.ensemble import RandomForestClassifier\n",
    "\n",
    "feature_names = [f\"feature {i}\" for i in range(F_np.shape[1])]\n",
    "forest = RandomForestClassifier(random_state=0)\n",
    "forest.fit(X_train, y_train)"
   ]
  },
  {
   "cell_type": "code",
   "execution_count": 34,
   "id": "73e3b415-9cb2-49db-aea8-280e59109bcb",
   "metadata": {},
   "outputs": [
    {
     "name": "stdout",
     "output_type": "stream",
     "text": [
      "Elapsed time to compute the importances: 0.031 seconds\n"
     ]
    }
   ],
   "source": [
    "import time\n",
    "\n",
    "import numpy as np\n",
    "\n",
    "start_time = time.time()\n",
    "importances = forest.feature_importances_\n",
    "std = np.std([tree.feature_importances_ for tree in forest.estimators_], axis=0)\n",
    "elapsed_time = time.time() - start_time\n",
    "\n",
    "print(f\"Elapsed time to compute the importances: {elapsed_time:.3f} seconds\")"
   ]
  },
  {
   "cell_type": "code",
   "execution_count": 35,
   "id": "51b55a51-8deb-4c5c-a3c2-7009b277e5b2",
   "metadata": {},
   "outputs": [
    {
     "data": {
      "image/png": "[encoded data removed]",
      "text/plain": [
       "<Figure size 640x480 with 1 Axes>"
      ]
     },
     "metadata": {},
     "output_type": "display_data"
    }
   ],
   "source": [
    "import pandas as pd\n",
    "\n",
    "forest_importances = pd.Series(importances, index=feature_names)\n",
    "\n",
    "fig, ax = plt.subplots()\n",
    "forest_importances.plot.bar(yerr=std, ax=ax)\n",
    "ax.set_title(\"Feature importances using MDI\")\n",
    "ax.set_ylabel(\"Mean decrease in impurity\")\n",
    "fig.tight_layout()"
   ]
  },
  {
   "cell_type": "code",
   "execution_count": null,
   "id": "655b6bc7-8880-4549-bcec-7420e64e5f19",
   "metadata": {},
   "outputs": [],
   "source": []
  }
 ],
 "metadata": {
  "kernelspec": {
   "display_name": "Python 3 (ipykernel)",
   "language": "python",
   "name": "python3"
  },
  "language_info": {
   "codemirror_mode": {
    "name": "ipython",
    "version": 3
   },
   "file_extension": ".py",
   "mimetype": "text/x-python",
   "name": "python",
   "nbconvert_exporter": "python",
   "pygments_lexer": "ipython3",
   "version": "3.10.9"
  }
 },
 "nbformat": 4,
 "nbformat_minor": 5
}
