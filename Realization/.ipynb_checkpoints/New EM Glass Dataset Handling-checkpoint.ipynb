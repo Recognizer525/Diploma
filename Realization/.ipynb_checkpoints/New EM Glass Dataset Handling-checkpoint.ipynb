{
 "cells": [
  {
   "cell_type": "code",
   "execution_count": 1,
   "id": "e2168c62",
   "metadata": {},
   "outputs": [],
   "source": [
    "#Импортируем необходимые библиотеки\n",
    "from scipy import stats\n",
    "import numpy as np\n",
    "import matplotlib.pyplot as plt\n",
    "import pandas as pd\n",
    "import seaborn as sns\n",
    "import warnings\n",
    "#from copy import deepcopy\n",
    "#Новые библиотеки с выделенными функциями\n",
    "import mv_tools as mvt\n",
    "import solver\n",
    "warnings.filterwarnings('ignore')"
   ]
  },
  {
   "cell_type": "markdown",
   "id": "2bf212de",
   "metadata": {},
   "source": [
    "Датасет взят из следующего источника: https://www.openml.org/search?type=data&sort=runs&status=active&order=desc&qualities.NumberOfClasses=%3D_2&qualities.NumberOfFeatures=lte_10&qualities.NumberOfInstances=lte_1000&id=1005"
   ]
  },
  {
   "cell_type": "code",
   "execution_count": 2,
   "id": "c740919b",
   "metadata": {},
   "outputs": [],
   "source": [
    "f1=open('Datasets/glass.arff','r')"
   ]
  },
  {
   "cell_type": "code",
   "execution_count": 3,
   "id": "ff6622f8",
   "metadata": {},
   "outputs": [],
   "source": [
    "# Считываем датасет из файла, отдельно метки, отдельно признаки\n",
    "features = []\n",
    "for line in f1:\n",
    "    if line[0].isdigit():\n",
    "        if line[-1]=='\\n':\n",
    "            data = line[:-1].split(',')\n",
    "        else:\n",
    "            data = line.split(',')\n",
    "        features.append(data)\n",
    "        for i in range(len(features[-1])):\n",
    "            try:\n",
    "                features[-1][i]=float(features[-1][i])\n",
    "            except:\n",
    "                pass\n",
    "F=pd.DataFrame(features, columns=['RI','NA','Mg','Al','Si','K','Ca','Ba','Fe','labels'])"
   ]
  },
  {
   "cell_type": "code",
   "execution_count": 4,
   "id": "d5550941",
   "metadata": {},
   "outputs": [
    {
     "data": {
      "text/html": [
       "<div>\n",
       "<style scoped>\n",
       "    .dataframe tbody tr th:only-of-type {\n",
       "        vertical-align: middle;\n",
       "    }\n",
       "\n",
       "    .dataframe tbody tr th {\n",
       "        vertical-align: top;\n",
       "    }\n",
       "\n",
       "    .dataframe thead th {\n",
       "        text-align: right;\n",
       "    }\n",
       "</style>\n",
       "<table border=\"1\" class=\"dataframe\">\n",
       "  <thead>\n",
       "    <tr style=\"text-align: right;\">\n",
       "      <th></th>\n",
       "      <th>RI</th>\n",
       "      <th>NA</th>\n",
       "      <th>Mg</th>\n",
       "      <th>Al</th>\n",
       "      <th>Si</th>\n",
       "      <th>K</th>\n",
       "      <th>Ca</th>\n",
       "      <th>Ba</th>\n",
       "      <th>Fe</th>\n",
       "      <th>labels</th>\n",
       "    </tr>\n",
       "  </thead>\n",
       "  <tbody>\n",
       "    <tr>\n",
       "      <th>0</th>\n",
       "      <td>1.51793</td>\n",
       "      <td>12.79</td>\n",
       "      <td>3.50</td>\n",
       "      <td>1.12</td>\n",
       "      <td>73.03</td>\n",
       "      <td>0.64</td>\n",
       "      <td>8.77</td>\n",
       "      <td>0.0</td>\n",
       "      <td>0.00</td>\n",
       "      <td>N</td>\n",
       "    </tr>\n",
       "    <tr>\n",
       "      <th>1</th>\n",
       "      <td>1.51643</td>\n",
       "      <td>12.16</td>\n",
       "      <td>3.52</td>\n",
       "      <td>1.35</td>\n",
       "      <td>72.89</td>\n",
       "      <td>0.57</td>\n",
       "      <td>8.53</td>\n",
       "      <td>0.0</td>\n",
       "      <td>0.00</td>\n",
       "      <td>N</td>\n",
       "    </tr>\n",
       "    <tr>\n",
       "      <th>2</th>\n",
       "      <td>1.51793</td>\n",
       "      <td>13.21</td>\n",
       "      <td>3.48</td>\n",
       "      <td>1.41</td>\n",
       "      <td>72.64</td>\n",
       "      <td>0.59</td>\n",
       "      <td>8.43</td>\n",
       "      <td>0.0</td>\n",
       "      <td>0.00</td>\n",
       "      <td>N</td>\n",
       "    </tr>\n",
       "    <tr>\n",
       "      <th>3</th>\n",
       "      <td>1.51299</td>\n",
       "      <td>14.40</td>\n",
       "      <td>1.74</td>\n",
       "      <td>1.54</td>\n",
       "      <td>74.55</td>\n",
       "      <td>0.00</td>\n",
       "      <td>7.59</td>\n",
       "      <td>0.0</td>\n",
       "      <td>0.00</td>\n",
       "      <td>N</td>\n",
       "    </tr>\n",
       "    <tr>\n",
       "      <th>4</th>\n",
       "      <td>1.53393</td>\n",
       "      <td>12.30</td>\n",
       "      <td>0.00</td>\n",
       "      <td>1.00</td>\n",
       "      <td>70.16</td>\n",
       "      <td>0.12</td>\n",
       "      <td>16.19</td>\n",
       "      <td>0.0</td>\n",
       "      <td>0.24</td>\n",
       "      <td>P</td>\n",
       "    </tr>\n",
       "    <tr>\n",
       "      <th>...</th>\n",
       "      <td>...</td>\n",
       "      <td>...</td>\n",
       "      <td>...</td>\n",
       "      <td>...</td>\n",
       "      <td>...</td>\n",
       "      <td>...</td>\n",
       "      <td>...</td>\n",
       "      <td>...</td>\n",
       "      <td>...</td>\n",
       "      <td>...</td>\n",
       "    </tr>\n",
       "    <tr>\n",
       "      <th>209</th>\n",
       "      <td>1.51610</td>\n",
       "      <td>13.42</td>\n",
       "      <td>3.40</td>\n",
       "      <td>1.22</td>\n",
       "      <td>72.69</td>\n",
       "      <td>0.59</td>\n",
       "      <td>8.32</td>\n",
       "      <td>0.0</td>\n",
       "      <td>0.00</td>\n",
       "      <td>N</td>\n",
       "    </tr>\n",
       "    <tr>\n",
       "      <th>210</th>\n",
       "      <td>1.51592</td>\n",
       "      <td>12.86</td>\n",
       "      <td>3.52</td>\n",
       "      <td>2.12</td>\n",
       "      <td>72.66</td>\n",
       "      <td>0.69</td>\n",
       "      <td>7.97</td>\n",
       "      <td>0.0</td>\n",
       "      <td>0.00</td>\n",
       "      <td>P</td>\n",
       "    </tr>\n",
       "    <tr>\n",
       "      <th>211</th>\n",
       "      <td>1.51613</td>\n",
       "      <td>13.92</td>\n",
       "      <td>3.52</td>\n",
       "      <td>1.25</td>\n",
       "      <td>72.88</td>\n",
       "      <td>0.37</td>\n",
       "      <td>7.94</td>\n",
       "      <td>0.0</td>\n",
       "      <td>0.14</td>\n",
       "      <td>P</td>\n",
       "    </tr>\n",
       "    <tr>\n",
       "      <th>212</th>\n",
       "      <td>1.51689</td>\n",
       "      <td>12.67</td>\n",
       "      <td>2.88</td>\n",
       "      <td>1.71</td>\n",
       "      <td>73.21</td>\n",
       "      <td>0.73</td>\n",
       "      <td>8.54</td>\n",
       "      <td>0.0</td>\n",
       "      <td>0.00</td>\n",
       "      <td>P</td>\n",
       "    </tr>\n",
       "    <tr>\n",
       "      <th>213</th>\n",
       "      <td>1.51852</td>\n",
       "      <td>14.09</td>\n",
       "      <td>2.19</td>\n",
       "      <td>1.66</td>\n",
       "      <td>72.67</td>\n",
       "      <td>0.00</td>\n",
       "      <td>9.32</td>\n",
       "      <td>0.0</td>\n",
       "      <td>0.00</td>\n",
       "      <td>N</td>\n",
       "    </tr>\n",
       "  </tbody>\n",
       "</table>\n",
       "<p>214 rows × 10 columns</p>\n",
       "</div>"
      ],
      "text/plain": [
       "          RI     NA    Mg    Al     Si     K     Ca   Ba    Fe labels\n",
       "0    1.51793  12.79  3.50  1.12  73.03  0.64   8.77  0.0  0.00      N\n",
       "1    1.51643  12.16  3.52  1.35  72.89  0.57   8.53  0.0  0.00      N\n",
       "2    1.51793  13.21  3.48  1.41  72.64  0.59   8.43  0.0  0.00      N\n",
       "3    1.51299  14.40  1.74  1.54  74.55  0.00   7.59  0.0  0.00      N\n",
       "4    1.53393  12.30  0.00  1.00  70.16  0.12  16.19  0.0  0.24      P\n",
       "..       ...    ...   ...   ...    ...   ...    ...  ...   ...    ...\n",
       "209  1.51610  13.42  3.40  1.22  72.69  0.59   8.32  0.0  0.00      N\n",
       "210  1.51592  12.86  3.52  2.12  72.66  0.69   7.97  0.0  0.00      P\n",
       "211  1.51613  13.92  3.52  1.25  72.88  0.37   7.94  0.0  0.14      P\n",
       "212  1.51689  12.67  2.88  1.71  73.21  0.73   8.54  0.0  0.00      P\n",
       "213  1.51852  14.09  2.19  1.66  72.67  0.00   9.32  0.0  0.00      N\n",
       "\n",
       "[214 rows x 10 columns]"
      ]
     },
     "execution_count": 4,
     "metadata": {},
     "output_type": "execute_result"
    }
   ],
   "source": [
    "F"
   ]
  },
  {
   "cell_type": "code",
   "execution_count": 5,
   "id": "86ab9b0e",
   "metadata": {},
   "outputs": [
    {
     "data": {
      "text/plain": [
       "0.0001530648752243192"
      ]
     },
     "execution_count": 5,
     "metadata": {},
     "output_type": "execute_result"
    }
   ],
   "source": [
    "np.linalg.det(F.corr().values)"
   ]
  },
  {
   "cell_type": "code",
   "execution_count": 6,
   "id": "81200bbc",
   "metadata": {},
   "outputs": [
    {
     "data": {
      "text/html": [
       "<div>\n",
       "<style scoped>\n",
       "    .dataframe tbody tr th:only-of-type {\n",
       "        vertical-align: middle;\n",
       "    }\n",
       "\n",
       "    .dataframe tbody tr th {\n",
       "        vertical-align: top;\n",
       "    }\n",
       "\n",
       "    .dataframe thead th {\n",
       "        text-align: right;\n",
       "    }\n",
       "</style>\n",
       "<table border=\"1\" class=\"dataframe\">\n",
       "  <thead>\n",
       "    <tr style=\"text-align: right;\">\n",
       "      <th></th>\n",
       "      <th>RI</th>\n",
       "      <th>NA</th>\n",
       "      <th>Mg</th>\n",
       "      <th>Al</th>\n",
       "      <th>Si</th>\n",
       "      <th>K</th>\n",
       "      <th>Ca</th>\n",
       "      <th>Ba</th>\n",
       "      <th>Fe</th>\n",
       "    </tr>\n",
       "  </thead>\n",
       "  <tbody>\n",
       "    <tr>\n",
       "      <th>RI</th>\n",
       "      <td>1.00</td>\n",
       "      <td>-0.19</td>\n",
       "      <td>-0.12</td>\n",
       "      <td>-0.41</td>\n",
       "      <td>-0.54</td>\n",
       "      <td>-0.29</td>\n",
       "      <td>0.81</td>\n",
       "      <td>-0.00</td>\n",
       "      <td>0.14</td>\n",
       "    </tr>\n",
       "    <tr>\n",
       "      <th>NA</th>\n",
       "      <td>-0.19</td>\n",
       "      <td>1.00</td>\n",
       "      <td>-0.27</td>\n",
       "      <td>0.16</td>\n",
       "      <td>-0.07</td>\n",
       "      <td>-0.27</td>\n",
       "      <td>-0.28</td>\n",
       "      <td>0.33</td>\n",
       "      <td>-0.24</td>\n",
       "    </tr>\n",
       "    <tr>\n",
       "      <th>Mg</th>\n",
       "      <td>-0.12</td>\n",
       "      <td>-0.27</td>\n",
       "      <td>1.00</td>\n",
       "      <td>-0.48</td>\n",
       "      <td>-0.17</td>\n",
       "      <td>0.01</td>\n",
       "      <td>-0.44</td>\n",
       "      <td>-0.49</td>\n",
       "      <td>0.08</td>\n",
       "    </tr>\n",
       "    <tr>\n",
       "      <th>Al</th>\n",
       "      <td>-0.41</td>\n",
       "      <td>0.16</td>\n",
       "      <td>-0.48</td>\n",
       "      <td>1.00</td>\n",
       "      <td>-0.01</td>\n",
       "      <td>0.33</td>\n",
       "      <td>-0.26</td>\n",
       "      <td>0.48</td>\n",
       "      <td>-0.07</td>\n",
       "    </tr>\n",
       "    <tr>\n",
       "      <th>Si</th>\n",
       "      <td>-0.54</td>\n",
       "      <td>-0.07</td>\n",
       "      <td>-0.17</td>\n",
       "      <td>-0.01</td>\n",
       "      <td>1.00</td>\n",
       "      <td>-0.19</td>\n",
       "      <td>-0.21</td>\n",
       "      <td>-0.10</td>\n",
       "      <td>-0.09</td>\n",
       "    </tr>\n",
       "    <tr>\n",
       "      <th>K</th>\n",
       "      <td>-0.29</td>\n",
       "      <td>-0.27</td>\n",
       "      <td>0.01</td>\n",
       "      <td>0.33</td>\n",
       "      <td>-0.19</td>\n",
       "      <td>1.00</td>\n",
       "      <td>-0.32</td>\n",
       "      <td>-0.04</td>\n",
       "      <td>-0.01</td>\n",
       "    </tr>\n",
       "    <tr>\n",
       "      <th>Ca</th>\n",
       "      <td>0.81</td>\n",
       "      <td>-0.28</td>\n",
       "      <td>-0.44</td>\n",
       "      <td>-0.26</td>\n",
       "      <td>-0.21</td>\n",
       "      <td>-0.32</td>\n",
       "      <td>1.00</td>\n",
       "      <td>-0.11</td>\n",
       "      <td>0.12</td>\n",
       "    </tr>\n",
       "    <tr>\n",
       "      <th>Ba</th>\n",
       "      <td>-0.00</td>\n",
       "      <td>0.33</td>\n",
       "      <td>-0.49</td>\n",
       "      <td>0.48</td>\n",
       "      <td>-0.10</td>\n",
       "      <td>-0.04</td>\n",
       "      <td>-0.11</td>\n",
       "      <td>1.00</td>\n",
       "      <td>-0.06</td>\n",
       "    </tr>\n",
       "    <tr>\n",
       "      <th>Fe</th>\n",
       "      <td>0.14</td>\n",
       "      <td>-0.24</td>\n",
       "      <td>0.08</td>\n",
       "      <td>-0.07</td>\n",
       "      <td>-0.09</td>\n",
       "      <td>-0.01</td>\n",
       "      <td>0.12</td>\n",
       "      <td>-0.06</td>\n",
       "      <td>1.00</td>\n",
       "    </tr>\n",
       "  </tbody>\n",
       "</table>\n",
       "</div>"
      ],
      "text/plain": [
       "      RI    NA    Mg    Al    Si     K    Ca    Ba    Fe\n",
       "RI  1.00 -0.19 -0.12 -0.41 -0.54 -0.29  0.81 -0.00  0.14\n",
       "NA -0.19  1.00 -0.27  0.16 -0.07 -0.27 -0.28  0.33 -0.24\n",
       "Mg -0.12 -0.27  1.00 -0.48 -0.17  0.01 -0.44 -0.49  0.08\n",
       "Al -0.41  0.16 -0.48  1.00 -0.01  0.33 -0.26  0.48 -0.07\n",
       "Si -0.54 -0.07 -0.17 -0.01  1.00 -0.19 -0.21 -0.10 -0.09\n",
       "K  -0.29 -0.27  0.01  0.33 -0.19  1.00 -0.32 -0.04 -0.01\n",
       "Ca  0.81 -0.28 -0.44 -0.26 -0.21 -0.32  1.00 -0.11  0.12\n",
       "Ba -0.00  0.33 -0.49  0.48 -0.10 -0.04 -0.11  1.00 -0.06\n",
       "Fe  0.14 -0.24  0.08 -0.07 -0.09 -0.01  0.12 -0.06  1.00"
      ]
     },
     "execution_count": 6,
     "metadata": {},
     "output_type": "execute_result"
    }
   ],
   "source": [
    "F.corr().round(2)"
   ]
  },
  {
   "cell_type": "code",
   "execution_count": 7,
   "id": "a3349d99",
   "metadata": {},
   "outputs": [
    {
     "data": {
      "image/png": "[encoded data removed]",
      "text/plain": [
       "<Figure size 640x480 with 2 Axes>"
      ]
     },
     "metadata": {},
     "output_type": "display_data"
    }
   ],
   "source": [
    "dataplot = sns.heatmap(F.corr().round(2), cmap=\"crest\", annot=True)"
   ]
  },
  {
   "cell_type": "code",
   "execution_count": 8,
   "id": "9ca2fd17",
   "metadata": {},
   "outputs": [],
   "source": [
    "F.drop(columns=['Ca'],inplace=True)"
   ]
  },
  {
   "cell_type": "code",
   "execution_count": 9,
   "id": "e600d9c3",
   "metadata": {},
   "outputs": [
    {
     "data": {
      "text/plain": [
       "0.032362118681231886"
      ]
     },
     "execution_count": 9,
     "metadata": {},
     "output_type": "execute_result"
    }
   ],
   "source": [
    "np.linalg.det(F.corr().values)"
   ]
  },
  {
   "cell_type": "markdown",
   "id": "c33cf4d2",
   "metadata": {},
   "source": [
    "# Тест на нормальное распределение признаков"
   ]
  },
  {
   "cell_type": "code",
   "execution_count": 10,
   "id": "1ecefbd5",
   "metadata": {},
   "outputs": [
    {
     "name": "stdout",
     "output_type": "stream",
     "text": [
      "ShapiroResult(statistic=0.8675718903541565, pvalue=1.0766247919222205e-12)\n",
      "ShapiroResult(statistic=0.9457632303237915, pvalue=3.4662537018448347e-07)\n",
      "ShapiroResult(statistic=0.699336588382721, pvalue=2.3909611661875223e-19)\n",
      "ShapiroResult(statistic=0.9434122443199158, pvalue=2.083013299625236e-07)\n",
      "ShapiroResult(statistic=0.9196622967720032, pvalue=2.175188917874493e-09)\n",
      "ShapiroResult(statistic=0.44161754846572876, pvalue=2.1721965417791313e-25)\n",
      "ShapiroResult(statistic=0.4085649847984314, pvalue=5.383263238128378e-26)\n",
      "ShapiroResult(statistic=0.653200089931488, pvalue=1.156668784076633e-20)\n"
     ]
    }
   ],
   "source": [
    "for col in F.columns:\n",
    "    if col!='labels':\n",
    "        print(stats.shapiro(F[col]))"
   ]
  },
  {
   "cell_type": "code",
   "execution_count": 11,
   "id": "9b26b099",
   "metadata": {},
   "outputs": [],
   "source": [
    "F_np=F.drop(columns=['labels']).values"
   ]
  },
  {
   "cell_type": "code",
   "execution_count": 12,
   "id": "230b60d5",
   "metadata": {},
   "outputs": [],
   "source": [
    "F_labels=list(F['labels'])"
   ]
  },
  {
   "cell_type": "code",
   "execution_count": 13,
   "id": "d0cda679",
   "metadata": {},
   "outputs": [
    {
     "name": "stdout",
     "output_type": "stream",
     "text": [
      "Число разных классов для датасета: 2\n"
     ]
    }
   ],
   "source": [
    "print(f\"Число разных классов для датасета: {len(set(F_labels))}\")"
   ]
  },
  {
   "cell_type": "code",
   "execution_count": 14,
   "id": "d3f2b151",
   "metadata": {},
   "outputs": [
    {
     "name": "stdout",
     "output_type": "stream",
     "text": [
      "Iteration: 0\n",
      "Iteration: 1\n",
      "Iteration: 2\n"
     ]
    }
   ],
   "source": [
    "# Создаем версию датасета с абсолютно случайными пропусками, т.е. независящими от наблюдаемых данных, 50% пропусков\n",
    "D_MCAR = mvt.MCAR(F_np, 1, int(1*len(F_np)/10))\n",
    "Full_D_MCAR = {}\n",
    "Full_D_MCAR['mean_fill'] = mvt.mean_fill(D_MCAR)\n",
    "Full_D_MCAR['lr_fill'] = mvt.lr_fill(D_MCAR)\n",
    "Full_D_MCAR['stoch_lr_fill'] = mvt.lr_fill(D_MCAR, noise=True)\n",
    "Full_D_MCAR['em_fill'] = mvt.EM(D_MCAR)\n",
    "Full_D_MCAR['bootstrap_fill'] = mvt.bootstrap_fill(D_MCAR)\n",
    "Full_D_MCAR['KNN_fill'] = mvt.knn_fill(D_MCAR)\n",
    "Full_D_MCAR['multiple_fill'] = mvt.multiple_fill(D_MCAR)\n",
    "Full_D_MCAR['missforest_fill'] = mvt.missforest_fill(D_MCAR)"
   ]
  },
  {
   "cell_type": "code",
   "execution_count": 15,
   "id": "9a4e5cbb",
   "metadata": {},
   "outputs": [
    {
     "name": "stdout",
     "output_type": "stream",
     "text": [
      "Iteration: 0\n",
      "Iteration: 1\n",
      "Iteration: 2\n",
      "Iteration: 3\n"
     ]
    }
   ],
   "source": [
    "# Создаем версию датасета со случайными пропусками, x_i2 становится пропуском, если x_i1>E[x1]\n",
    "D_MAR = mvt.MAR(F_np, indicator=0, mis_cols=1, thresh=np.quantile(F_np[:,0], 0.9), to_remove='>')\n",
    "Full_D_MAR = {}\n",
    "Full_D_MAR['mean_fill'] = mvt.mean_fill(D_MAR)\n",
    "Full_D_MAR['lr_fill'] = mvt.lr_fill(D_MAR)\n",
    "Full_D_MAR['stoch_lr_fill'] = mvt.lr_fill(D_MAR, noise=True)\n",
    "Full_D_MAR['em_fill'] = mvt.EM(D_MAR)\n",
    "Full_D_MAR['bootstrap_fill'] = mvt.bootstrap_fill(D_MAR)\n",
    "Full_D_MAR['KNN_fill'] = mvt.knn_fill(D_MAR)\n",
    "Full_D_MAR['multiple_fill'] = mvt.multiple_fill(D_MAR)\n",
    "Full_D_MAR['missforest_fill'] = mvt.missforest_fill(D_MAR)"
   ]
  },
  {
   "cell_type": "code",
   "execution_count": 16,
   "id": "56259f51",
   "metadata": {},
   "outputs": [],
   "source": [
    "df_index = ['mean_fill', 'lr_fill', 'stoch_lr_fill', 'em_fill', 'bootstrap_fill', 'KNN_fill', 'multiple_fill', 'missforest_fill']\n",
    "df_columns = ['f1_score', 'accuracy', 'precision', 'recall']"
   ]
  },
  {
   "cell_type": "code",
   "execution_count": 17,
   "id": "932637cb",
   "metadata": {},
   "outputs": [
    {
     "name": "stdout",
     "output_type": "stream",
     "text": [
      "                 f1_score  accuracy  precision    recall\n",
      "mean_fill        0.759982  0.850483   0.886108  0.670256\n",
      "lr_fill          0.739947  0.836463   0.850178  0.657436\n",
      "stoch_lr_fill    0.734472  0.831768   0.836686  0.657436\n",
      "em_fill          0.739947  0.836463   0.850178  0.657436\n",
      "bootstrap_fill   0.705903  0.817814   0.828175  0.618462\n",
      "KNN_fill         0.739947  0.836463   0.850178  0.657436\n",
      "multiple_fill    0.729125  0.827074   0.819219  0.657436\n",
      "missforest_fill  0.758417  0.845788   0.854992  0.683590\n",
      "LGBM_fill        0.641375  0.775691   0.738372  0.577436\n",
      "CB_fill          0.695942  0.808425   0.798511  0.617949\n",
      "id 2242645375776\n"
     ]
    }
   ],
   "source": [
    "df_MCAR = solver.estimates(Full_D_MCAR, F_labels,df_index,df_columns)"
   ]
  },
  {
   "cell_type": "code",
   "execution_count": 18,
   "id": "62151420",
   "metadata": {},
   "outputs": [
    {
     "name": "stdout",
     "output_type": "stream",
     "text": [
      "                 f1_score  accuracy  precision    recall\n",
      "mean_fill        0.734472  0.831768   0.836686  0.657436\n",
      "lr_fill          0.749914  0.841158   0.852357  0.670769\n",
      "stoch_lr_fill    0.729494  0.831768   0.847727  0.644103\n",
      "em_fill          0.749914  0.841158   0.852357  0.670769\n",
      "bootstrap_fill   0.737628  0.831703   0.821854  0.670256\n",
      "KNN_fill         0.740279  0.836463   0.855069  0.657436\n",
      "multiple_fill    0.759428  0.845853   0.854306  0.684103\n",
      "missforest_fill  0.720067  0.827074   0.845096  0.630769\n",
      "LGBM_fill        0.680438  0.799035   0.779993  0.604615\n",
      "CB_fill          0.664310  0.799035   0.811111  0.565641\n",
      "id 2242643609872\n"
     ]
    }
   ],
   "source": [
    "df_MAR = solver.estimates(Full_D_MAR, F_labels,df_index,df_columns)"
   ]
  },
  {
   "cell_type": "code",
   "execution_count": 19,
   "id": "90fa137a",
   "metadata": {},
   "outputs": [
    {
     "data": {
      "text/html": [
       "<div>\n",
       "<style scoped>\n",
       "    .dataframe tbody tr th:only-of-type {\n",
       "        vertical-align: middle;\n",
       "    }\n",
       "\n",
       "    .dataframe tbody tr th {\n",
       "        vertical-align: top;\n",
       "    }\n",
       "\n",
       "    .dataframe thead th {\n",
       "        text-align: right;\n",
       "    }\n",
       "</style>\n",
       "<table border=\"1\" class=\"dataframe\">\n",
       "  <thead>\n",
       "    <tr style=\"text-align: right;\">\n",
       "      <th></th>\n",
       "      <th>f1_score</th>\n",
       "      <th>accuracy</th>\n",
       "      <th>precision</th>\n",
       "      <th>recall</th>\n",
       "    </tr>\n",
       "  </thead>\n",
       "  <tbody>\n",
       "    <tr>\n",
       "      <th>mean_fill</th>\n",
       "      <td>0.759982</td>\n",
       "      <td>0.850483</td>\n",
       "      <td>0.886108</td>\n",
       "      <td>0.670256</td>\n",
       "    </tr>\n",
       "    <tr>\n",
       "      <th>lr_fill</th>\n",
       "      <td>0.739947</td>\n",
       "      <td>0.836463</td>\n",
       "      <td>0.850178</td>\n",
       "      <td>0.657436</td>\n",
       "    </tr>\n",
       "    <tr>\n",
       "      <th>stoch_lr_fill</th>\n",
       "      <td>0.734472</td>\n",
       "      <td>0.831768</td>\n",
       "      <td>0.836686</td>\n",
       "      <td>0.657436</td>\n",
       "    </tr>\n",
       "    <tr>\n",
       "      <th>em_fill</th>\n",
       "      <td>0.739947</td>\n",
       "      <td>0.836463</td>\n",
       "      <td>0.850178</td>\n",
       "      <td>0.657436</td>\n",
       "    </tr>\n",
       "    <tr>\n",
       "      <th>bootstrap_fill</th>\n",
       "      <td>0.705903</td>\n",
       "      <td>0.817814</td>\n",
       "      <td>0.828175</td>\n",
       "      <td>0.618462</td>\n",
       "    </tr>\n",
       "    <tr>\n",
       "      <th>KNN_fill</th>\n",
       "      <td>0.739947</td>\n",
       "      <td>0.836463</td>\n",
       "      <td>0.850178</td>\n",
       "      <td>0.657436</td>\n",
       "    </tr>\n",
       "    <tr>\n",
       "      <th>multiple_fill</th>\n",
       "      <td>0.729125</td>\n",
       "      <td>0.827074</td>\n",
       "      <td>0.819219</td>\n",
       "      <td>0.657436</td>\n",
       "    </tr>\n",
       "    <tr>\n",
       "      <th>missforest_fill</th>\n",
       "      <td>0.758417</td>\n",
       "      <td>0.845788</td>\n",
       "      <td>0.854992</td>\n",
       "      <td>0.683590</td>\n",
       "    </tr>\n",
       "    <tr>\n",
       "      <th>LGBM_fill</th>\n",
       "      <td>0.641375</td>\n",
       "      <td>0.775691</td>\n",
       "      <td>0.738372</td>\n",
       "      <td>0.577436</td>\n",
       "    </tr>\n",
       "    <tr>\n",
       "      <th>CB_fill</th>\n",
       "      <td>0.695942</td>\n",
       "      <td>0.808425</td>\n",
       "      <td>0.798511</td>\n",
       "      <td>0.617949</td>\n",
       "    </tr>\n",
       "  </tbody>\n",
       "</table>\n",
       "</div>"
      ],
      "text/plain": [
       "                 f1_score  accuracy  precision    recall\n",
       "mean_fill        0.759982  0.850483   0.886108  0.670256\n",
       "lr_fill          0.739947  0.836463   0.850178  0.657436\n",
       "stoch_lr_fill    0.734472  0.831768   0.836686  0.657436\n",
       "em_fill          0.739947  0.836463   0.850178  0.657436\n",
       "bootstrap_fill   0.705903  0.817814   0.828175  0.618462\n",
       "KNN_fill         0.739947  0.836463   0.850178  0.657436\n",
       "multiple_fill    0.729125  0.827074   0.819219  0.657436\n",
       "missforest_fill  0.758417  0.845788   0.854992  0.683590\n",
       "LGBM_fill        0.641375  0.775691   0.738372  0.577436\n",
       "CB_fill          0.695942  0.808425   0.798511  0.617949"
      ]
     },
     "execution_count": 19,
     "metadata": {},
     "output_type": "execute_result"
    }
   ],
   "source": [
    "df_MCAR"
   ]
  },
  {
   "cell_type": "code",
   "execution_count": 20,
   "id": "8b748b2c",
   "metadata": {},
   "outputs": [
    {
     "data": {
      "text/html": [
       "<div>\n",
       "<style scoped>\n",
       "    .dataframe tbody tr th:only-of-type {\n",
       "        vertical-align: middle;\n",
       "    }\n",
       "\n",
       "    .dataframe tbody tr th {\n",
       "        vertical-align: top;\n",
       "    }\n",
       "\n",
       "    .dataframe thead th {\n",
       "        text-align: right;\n",
       "    }\n",
       "</style>\n",
       "<table border=\"1\" class=\"dataframe\">\n",
       "  <thead>\n",
       "    <tr style=\"text-align: right;\">\n",
       "      <th></th>\n",
       "      <th>f1_score</th>\n",
       "      <th>accuracy</th>\n",
       "      <th>precision</th>\n",
       "      <th>recall</th>\n",
       "    </tr>\n",
       "  </thead>\n",
       "  <tbody>\n",
       "    <tr>\n",
       "      <th>mean_fill</th>\n",
       "      <td>0.734472</td>\n",
       "      <td>0.831768</td>\n",
       "      <td>0.836686</td>\n",
       "      <td>0.657436</td>\n",
       "    </tr>\n",
       "    <tr>\n",
       "      <th>lr_fill</th>\n",
       "      <td>0.749914</td>\n",
       "      <td>0.841158</td>\n",
       "      <td>0.852357</td>\n",
       "      <td>0.670769</td>\n",
       "    </tr>\n",
       "    <tr>\n",
       "      <th>stoch_lr_fill</th>\n",
       "      <td>0.729494</td>\n",
       "      <td>0.831768</td>\n",
       "      <td>0.847727</td>\n",
       "      <td>0.644103</td>\n",
       "    </tr>\n",
       "    <tr>\n",
       "      <th>em_fill</th>\n",
       "      <td>0.749914</td>\n",
       "      <td>0.841158</td>\n",
       "      <td>0.852357</td>\n",
       "      <td>0.670769</td>\n",
       "    </tr>\n",
       "    <tr>\n",
       "      <th>bootstrap_fill</th>\n",
       "      <td>0.737628</td>\n",
       "      <td>0.831703</td>\n",
       "      <td>0.821854</td>\n",
       "      <td>0.670256</td>\n",
       "    </tr>\n",
       "    <tr>\n",
       "      <th>KNN_fill</th>\n",
       "      <td>0.740279</td>\n",
       "      <td>0.836463</td>\n",
       "      <td>0.855069</td>\n",
       "      <td>0.657436</td>\n",
       "    </tr>\n",
       "    <tr>\n",
       "      <th>multiple_fill</th>\n",
       "      <td>0.759428</td>\n",
       "      <td>0.845853</td>\n",
       "      <td>0.854306</td>\n",
       "      <td>0.684103</td>\n",
       "    </tr>\n",
       "    <tr>\n",
       "      <th>missforest_fill</th>\n",
       "      <td>0.720067</td>\n",
       "      <td>0.827074</td>\n",
       "      <td>0.845096</td>\n",
       "      <td>0.630769</td>\n",
       "    </tr>\n",
       "    <tr>\n",
       "      <th>LGBM_fill</th>\n",
       "      <td>0.680438</td>\n",
       "      <td>0.799035</td>\n",
       "      <td>0.779993</td>\n",
       "      <td>0.604615</td>\n",
       "    </tr>\n",
       "    <tr>\n",
       "      <th>CB_fill</th>\n",
       "      <td>0.664310</td>\n",
       "      <td>0.799035</td>\n",
       "      <td>0.811111</td>\n",
       "      <td>0.565641</td>\n",
       "    </tr>\n",
       "  </tbody>\n",
       "</table>\n",
       "</div>"
      ],
      "text/plain": [
       "                 f1_score  accuracy  precision    recall\n",
       "mean_fill        0.734472  0.831768   0.836686  0.657436\n",
       "lr_fill          0.749914  0.841158   0.852357  0.670769\n",
       "stoch_lr_fill    0.729494  0.831768   0.847727  0.644103\n",
       "em_fill          0.749914  0.841158   0.852357  0.670769\n",
       "bootstrap_fill   0.737628  0.831703   0.821854  0.670256\n",
       "KNN_fill         0.740279  0.836463   0.855069  0.657436\n",
       "multiple_fill    0.759428  0.845853   0.854306  0.684103\n",
       "missforest_fill  0.720067  0.827074   0.845096  0.630769\n",
       "LGBM_fill        0.680438  0.799035   0.779993  0.604615\n",
       "CB_fill          0.664310  0.799035   0.811111  0.565641"
      ]
     },
     "execution_count": 20,
     "metadata": {},
     "output_type": "execute_result"
    }
   ],
   "source": [
    "df_MAR"
   ]
  },
  {
   "cell_type": "code",
   "execution_count": 21,
   "id": "5b54adda",
   "metadata": {},
   "outputs": [
    {
     "name": "stdout",
     "output_type": "stream",
     "text": [
      "Iteration: 0\n",
      "Iteration: 1\n",
      "Iteration: 2\n",
      "Iteration: 3\n"
     ]
    }
   ],
   "source": [
    "# Создаем версию датасета с абсолютно случайными пропусками, т.е. независящими от наблюдаемых данных, 70% пропусков\n",
    "D1_MCAR = mvt.MCAR(F_np, 1, int(4*len(F_np)/10))\n",
    "Full_D1_MCAR = {}\n",
    "Full_D1_MCAR['mean_fill'] = mvt.mean_fill(D1_MCAR)\n",
    "Full_D1_MCAR['lr_fill'] = mvt.lr_fill(D1_MCAR)\n",
    "Full_D1_MCAR['stoch_lr_fill'] = mvt.lr_fill(D1_MCAR, noise=True)\n",
    "Full_D1_MCAR['em_fill'] = mvt.EM(D1_MCAR)\n",
    "Full_D1_MCAR['bootstrap_fill'] = mvt.bootstrap_fill(D1_MCAR)\n",
    "Full_D1_MCAR['KNN_fill'] = mvt.knn_fill(D1_MCAR)\n",
    "Full_D1_MCAR['multiple_fill'] = mvt.multiple_fill(D1_MCAR)\n",
    "Full_D1_MCAR['missforest_fill'] = mvt.missforest_fill(D1_MCAR)"
   ]
  },
  {
   "cell_type": "code",
   "execution_count": 22,
   "id": "e71ccae3",
   "metadata": {},
   "outputs": [
    {
     "name": "stdout",
     "output_type": "stream",
     "text": [
      "Iteration: 0\n",
      "Iteration: 1\n",
      "Iteration: 2\n",
      "Iteration: 3\n"
     ]
    }
   ],
   "source": [
    "# Создаем версию датасета со случайными пропусками, x_i2 становится пропуском, если x_i1 больше квантиля 0.3 для признака x1\n",
    "D1_MAR = mvt.MAR(F_np, indicator=0, mis_cols=1, thresh=np.quantile(F_np[:,0], 0.6), to_remove='>')\n",
    "Full_D1_MAR = {}\n",
    "Full_D1_MAR['mean_fill'] = mvt.mean_fill(D1_MAR)\n",
    "Full_D1_MAR['lr_fill'] = mvt.lr_fill(D1_MAR)\n",
    "Full_D1_MAR['stoch_lr_fill'] = mvt.lr_fill(D1_MAR, noise=True)\n",
    "Full_D1_MAR['em_fill'] = mvt.EM(D1_MAR)\n",
    "Full_D1_MAR['bootstrap_fill'] = mvt.bootstrap_fill(D1_MAR)\n",
    "Full_D1_MAR['KNN_fill'] = mvt.knn_fill(D1_MAR)\n",
    "Full_D1_MAR['multiple_fill'] = mvt.multiple_fill(D1_MAR)\n",
    "Full_D1_MAR['missforest_fill'] = mvt.missforest_fill(D1_MAR)"
   ]
  },
  {
   "cell_type": "code",
   "execution_count": 23,
   "id": "4335d4de",
   "metadata": {},
   "outputs": [
    {
     "name": "stdout",
     "output_type": "stream",
     "text": [
      "                 f1_score  accuracy  precision    recall\n",
      "mean_fill        0.748073  0.836594   0.825108  0.685128\n",
      "lr_fill          0.754772  0.845853   0.870942  0.670769\n",
      "stoch_lr_fill    0.765418  0.850548   0.870875  0.684103\n",
      "em_fill          0.754772  0.845853   0.870942  0.670769\n",
      "bootstrap_fill   0.742754  0.831768   0.812410  0.684103\n",
      "KNN_fill         0.767594  0.850483   0.856064  0.696923\n",
      "multiple_fill    0.768519  0.850548   0.856061  0.697436\n",
      "missforest_fill  0.751931  0.841093   0.838854  0.683590\n",
      "LGBM_fill        0.665741  0.771127   0.693996  0.644103\n",
      "CB_fill          0.675737  0.799100   0.795396  0.591282\n",
      "id 2242645373280\n"
     ]
    }
   ],
   "source": [
    "df_MCAR2 = solver.estimates(Full_D1_MCAR, F_labels,df_index,df_columns)"
   ]
  },
  {
   "cell_type": "code",
   "execution_count": 24,
   "id": "77757c14",
   "metadata": {},
   "outputs": [
    {
     "name": "stdout",
     "output_type": "stream",
     "text": [
      "                 f1_score  accuracy  precision    recall\n",
      "mean_fill        0.766079  0.845788   0.834477  0.710256\n",
      "lr_fill          0.738652  0.836463   0.856566  0.657436\n",
      "stoch_lr_fill    0.736427  0.831703   0.820336  0.670256\n",
      "em_fill          0.738652  0.836463   0.856566  0.657436\n",
      "bootstrap_fill   0.715620  0.817814   0.803968  0.645128\n",
      "KNN_fill         0.753247  0.841158   0.843519  0.683590\n",
      "multiple_fill    0.742134  0.831768   0.814432  0.683590\n",
      "missforest_fill  0.735265  0.831899   0.835690  0.658462\n",
      "LGBM_fill        0.664374  0.785081   0.751603  0.604103\n",
      "CB_fill          0.697557  0.813185   0.822612  0.605641\n",
      "id 2242645372896\n"
     ]
    }
   ],
   "source": [
    "df_MAR2 = solver.estimates(Full_D1_MAR, F_labels,df_index,df_columns)"
   ]
  },
  {
   "cell_type": "code",
   "execution_count": 25,
   "id": "0b5e7bce",
   "metadata": {},
   "outputs": [
    {
     "ename": "NameError",
     "evalue": "name 'df_MСAR2' is not defined",
     "output_type": "error",
     "traceback": [
      "\u001b[1;31m---------------------------------------------------------------------------\u001b[0m",
      "\u001b[1;31mNameError\u001b[0m                                 Traceback (most recent call last)",
      "Cell \u001b[1;32mIn[25], line 1\u001b[0m\n\u001b[1;32m----> 1\u001b[0m \u001b[43mdf_MСAR2\u001b[49m\n",
      "\u001b[1;31mNameError\u001b[0m: name 'df_MСAR2' is not defined"
     ]
    }
   ],
   "source": [
    "df_MСAR2"
   ]
  },
  {
   "cell_type": "code",
   "execution_count": 26,
   "id": "f0eb54ac",
   "metadata": {},
   "outputs": [
    {
     "data": {
      "text/html": [
       "<div>\n",
       "<style scoped>\n",
       "    .dataframe tbody tr th:only-of-type {\n",
       "        vertical-align: middle;\n",
       "    }\n",
       "\n",
       "    .dataframe tbody tr th {\n",
       "        vertical-align: top;\n",
       "    }\n",
       "\n",
       "    .dataframe thead th {\n",
       "        text-align: right;\n",
       "    }\n",
       "</style>\n",
       "<table border=\"1\" class=\"dataframe\">\n",
       "  <thead>\n",
       "    <tr style=\"text-align: right;\">\n",
       "      <th></th>\n",
       "      <th>f1_score</th>\n",
       "      <th>accuracy</th>\n",
       "      <th>precision</th>\n",
       "      <th>recall</th>\n",
       "    </tr>\n",
       "  </thead>\n",
       "  <tbody>\n",
       "    <tr>\n",
       "      <th>mean_fill</th>\n",
       "      <td>0.766079</td>\n",
       "      <td>0.845788</td>\n",
       "      <td>0.834477</td>\n",
       "      <td>0.710256</td>\n",
       "    </tr>\n",
       "    <tr>\n",
       "      <th>lr_fill</th>\n",
       "      <td>0.738652</td>\n",
       "      <td>0.836463</td>\n",
       "      <td>0.856566</td>\n",
       "      <td>0.657436</td>\n",
       "    </tr>\n",
       "    <tr>\n",
       "      <th>stoch_lr_fill</th>\n",
       "      <td>0.736427</td>\n",
       "      <td>0.831703</td>\n",
       "      <td>0.820336</td>\n",
       "      <td>0.670256</td>\n",
       "    </tr>\n",
       "    <tr>\n",
       "      <th>em_fill</th>\n",
       "      <td>0.738652</td>\n",
       "      <td>0.836463</td>\n",
       "      <td>0.856566</td>\n",
       "      <td>0.657436</td>\n",
       "    </tr>\n",
       "    <tr>\n",
       "      <th>bootstrap_fill</th>\n",
       "      <td>0.715620</td>\n",
       "      <td>0.817814</td>\n",
       "      <td>0.803968</td>\n",
       "      <td>0.645128</td>\n",
       "    </tr>\n",
       "    <tr>\n",
       "      <th>KNN_fill</th>\n",
       "      <td>0.753247</td>\n",
       "      <td>0.841158</td>\n",
       "      <td>0.843519</td>\n",
       "      <td>0.683590</td>\n",
       "    </tr>\n",
       "    <tr>\n",
       "      <th>multiple_fill</th>\n",
       "      <td>0.742134</td>\n",
       "      <td>0.831768</td>\n",
       "      <td>0.814432</td>\n",
       "      <td>0.683590</td>\n",
       "    </tr>\n",
       "    <tr>\n",
       "      <th>missforest_fill</th>\n",
       "      <td>0.735265</td>\n",
       "      <td>0.831899</td>\n",
       "      <td>0.835690</td>\n",
       "      <td>0.658462</td>\n",
       "    </tr>\n",
       "    <tr>\n",
       "      <th>LGBM_fill</th>\n",
       "      <td>0.664374</td>\n",
       "      <td>0.785081</td>\n",
       "      <td>0.751603</td>\n",
       "      <td>0.604103</td>\n",
       "    </tr>\n",
       "    <tr>\n",
       "      <th>CB_fill</th>\n",
       "      <td>0.697557</td>\n",
       "      <td>0.813185</td>\n",
       "      <td>0.822612</td>\n",
       "      <td>0.605641</td>\n",
       "    </tr>\n",
       "  </tbody>\n",
       "</table>\n",
       "</div>"
      ],
      "text/plain": [
       "                 f1_score  accuracy  precision    recall\n",
       "mean_fill        0.766079  0.845788   0.834477  0.710256\n",
       "lr_fill          0.738652  0.836463   0.856566  0.657436\n",
       "stoch_lr_fill    0.736427  0.831703   0.820336  0.670256\n",
       "em_fill          0.738652  0.836463   0.856566  0.657436\n",
       "bootstrap_fill   0.715620  0.817814   0.803968  0.645128\n",
       "KNN_fill         0.753247  0.841158   0.843519  0.683590\n",
       "multiple_fill    0.742134  0.831768   0.814432  0.683590\n",
       "missforest_fill  0.735265  0.831899   0.835690  0.658462\n",
       "LGBM_fill        0.664374  0.785081   0.751603  0.604103\n",
       "CB_fill          0.697557  0.813185   0.822612  0.605641"
      ]
     },
     "execution_count": 26,
     "metadata": {},
     "output_type": "execute_result"
    }
   ],
   "source": [
    "df_MAR2"
   ]
  },
  {
   "cell_type": "markdown",
   "id": "3e7ed7e0",
   "metadata": {},
   "source": [
    "# Проверим, есть ли аномальные значения при использовании EM-imputation"
   ]
  },
  {
   "cell_type": "code",
   "execution_count": 27,
   "id": "c3d75696",
   "metadata": {},
   "outputs": [
    {
     "name": "stdout",
     "output_type": "stream",
     "text": [
      "0.0 75.41\n",
      "0.0 75.41\n",
      "0.0 75.41\n",
      "0.0 75.41\n"
     ]
    }
   ],
   "source": [
    "# Узнаем max, min для каждого заполнения\n",
    "print(Full_D1_MCAR['em_fill'].min(), Full_D1_MCAR['em_fill'].max())\n",
    "print(Full_D1_MAR['em_fill'].min(), Full_D1_MAR['em_fill'].max())\n",
    "print(Full_D_MCAR['em_fill'].min(), Full_D_MCAR['em_fill'].max())\n",
    "print(Full_D_MAR['em_fill'].min(), Full_D_MAR['em_fill'].max())"
   ]
  },
  {
   "cell_type": "code",
   "execution_count": 28,
   "id": "ae4317bd",
   "metadata": {},
   "outputs": [
    {
     "name": "stdout",
     "output_type": "stream",
     "text": [
      "0.0 75.41\n"
     ]
    }
   ],
   "source": [
    "# Узнаем max, min для оригинального датасета\n",
    "print(F.drop(columns='labels').values.min(), F.drop(columns='labels').values.max())"
   ]
  },
  {
   "cell_type": "code",
   "execution_count": 29,
   "id": "4b185521",
   "metadata": {},
   "outputs": [
    {
     "data": {
      "text/html": [
       "<div>\n",
       "<style scoped>\n",
       "    .dataframe tbody tr th:only-of-type {\n",
       "        vertical-align: middle;\n",
       "    }\n",
       "\n",
       "    .dataframe tbody tr th {\n",
       "        vertical-align: top;\n",
       "    }\n",
       "\n",
       "    .dataframe thead th {\n",
       "        text-align: right;\n",
       "    }\n",
       "</style>\n",
       "<table border=\"1\" class=\"dataframe\">\n",
       "  <thead>\n",
       "    <tr style=\"text-align: right;\">\n",
       "      <th></th>\n",
       "      <th>f1_score</th>\n",
       "      <th>accuracy</th>\n",
       "      <th>precision</th>\n",
       "      <th>recall</th>\n",
       "    </tr>\n",
       "  </thead>\n",
       "  <tbody>\n",
       "    <tr>\n",
       "      <th>mean_fill</th>\n",
       "      <td>0.748073</td>\n",
       "      <td>0.836594</td>\n",
       "      <td>0.825108</td>\n",
       "      <td>0.685128</td>\n",
       "    </tr>\n",
       "    <tr>\n",
       "      <th>lr_fill</th>\n",
       "      <td>0.754772</td>\n",
       "      <td>0.845853</td>\n",
       "      <td>0.870942</td>\n",
       "      <td>0.670769</td>\n",
       "    </tr>\n",
       "    <tr>\n",
       "      <th>stoch_lr_fill</th>\n",
       "      <td>0.765418</td>\n",
       "      <td>0.850548</td>\n",
       "      <td>0.870875</td>\n",
       "      <td>0.684103</td>\n",
       "    </tr>\n",
       "    <tr>\n",
       "      <th>em_fill</th>\n",
       "      <td>0.754772</td>\n",
       "      <td>0.845853</td>\n",
       "      <td>0.870942</td>\n",
       "      <td>0.670769</td>\n",
       "    </tr>\n",
       "    <tr>\n",
       "      <th>bootstrap_fill</th>\n",
       "      <td>0.742754</td>\n",
       "      <td>0.831768</td>\n",
       "      <td>0.812410</td>\n",
       "      <td>0.684103</td>\n",
       "    </tr>\n",
       "    <tr>\n",
       "      <th>KNN_fill</th>\n",
       "      <td>0.767594</td>\n",
       "      <td>0.850483</td>\n",
       "      <td>0.856064</td>\n",
       "      <td>0.696923</td>\n",
       "    </tr>\n",
       "    <tr>\n",
       "      <th>multiple_fill</th>\n",
       "      <td>0.768519</td>\n",
       "      <td>0.850548</td>\n",
       "      <td>0.856061</td>\n",
       "      <td>0.697436</td>\n",
       "    </tr>\n",
       "    <tr>\n",
       "      <th>missforest_fill</th>\n",
       "      <td>0.751931</td>\n",
       "      <td>0.841093</td>\n",
       "      <td>0.838854</td>\n",
       "      <td>0.683590</td>\n",
       "    </tr>\n",
       "    <tr>\n",
       "      <th>LGBM_fill</th>\n",
       "      <td>0.665741</td>\n",
       "      <td>0.771127</td>\n",
       "      <td>0.693996</td>\n",
       "      <td>0.644103</td>\n",
       "    </tr>\n",
       "    <tr>\n",
       "      <th>CB_fill</th>\n",
       "      <td>0.675737</td>\n",
       "      <td>0.799100</td>\n",
       "      <td>0.795396</td>\n",
       "      <td>0.591282</td>\n",
       "    </tr>\n",
       "  </tbody>\n",
       "</table>\n",
       "</div>"
      ],
      "text/plain": [
       "                 f1_score  accuracy  precision    recall\n",
       "mean_fill        0.748073  0.836594   0.825108  0.685128\n",
       "lr_fill          0.754772  0.845853   0.870942  0.670769\n",
       "stoch_lr_fill    0.765418  0.850548   0.870875  0.684103\n",
       "em_fill          0.754772  0.845853   0.870942  0.670769\n",
       "bootstrap_fill   0.742754  0.831768   0.812410  0.684103\n",
       "KNN_fill         0.767594  0.850483   0.856064  0.696923\n",
       "multiple_fill    0.768519  0.850548   0.856061  0.697436\n",
       "missforest_fill  0.751931  0.841093   0.838854  0.683590\n",
       "LGBM_fill        0.665741  0.771127   0.693996  0.644103\n",
       "CB_fill          0.675737  0.799100   0.795396  0.591282"
      ]
     },
     "execution_count": 29,
     "metadata": {},
     "output_type": "execute_result"
    }
   ],
   "source": [
    "df_MCAR2"
   ]
  },
  {
   "cell_type": "code",
   "execution_count": null,
   "id": "0cf4a3b3",
   "metadata": {},
   "outputs": [],
   "source": []
  }
 ],
 "metadata": {
  "kernelspec": {
   "display_name": "Python 3 (ipykernel)",
   "language": "python",
   "name": "python3"
  },
  "language_info": {
   "codemirror_mode": {
    "name": "ipython",
    "version": 3
   },
   "file_extension": ".py",
   "mimetype": "text/x-python",
   "name": "python",
   "nbconvert_exporter": "python",
   "pygments_lexer": "ipython3",
   "version": "3.10.9"
  }
 },
 "nbformat": 4,
 "nbformat_minor": 5
}
