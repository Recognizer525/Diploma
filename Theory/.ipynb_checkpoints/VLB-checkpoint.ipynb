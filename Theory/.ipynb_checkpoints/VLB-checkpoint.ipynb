{
 "cells": [
  {
   "cell_type": "markdown",
   "id": "f34128ec",
   "metadata": {},
   "source": [
    "$$\n",
    "\\begin{align}\n",
    "L_1=-\\frac{N}{2} \\log (D_1) -\\frac{R}{2} \\log  \\left(D_{2|1}\\right)\n",
    "\\label{eq1.1}\\tag{1.1}\\end{align}\n",
    "$$"
   ]
  },
  {
   "cell_type": "markdown",
   "id": "bb8de64c",
   "metadata": {},
   "source": [
    "$$\n",
    "\\begin{align}\n",
    "L_2=-\\frac{1}{2} \\sum_{i=1}^N \\frac{(y_{i1}-\\mu_1)^2}{D_1}-\\frac{1}{2} \\sum_{i=1}^R \\frac{\\left(y_{i2}-\\mu_{2|1}\\right)^2}{D_{2|1}}\n",
    "\\label{eq1.2}\\tag{1.2}\\end{align}\n",
    "$$"
   ]
  },
  {
   "cell_type": "markdown",
   "id": "ce35a5ac",
   "metadata": {},
   "source": [
    "$$\n",
    "\\begin{align}\n",
    "VLB = E_{q(T)} \\log \\frac { p(Y,T|\\theta)}{q(T)}=\\sum_{i=1}^K \\iint f(y_2|y_1=y_{k_i1}) \\log \\frac{p(Y,T|\\theta)}{f(y_2|y_1=y_{k_i1})} dy_1 dy_2 \n",
    "\\label{eq1.3}\\tag{1.3}\\end{align}\n",
    "$$"
   ]
  },
  {
   "cell_type": "markdown",
   "id": "9253434f",
   "metadata": {},
   "source": [
    "$$\n",
    "\\begin{align}\n",
    "q=\\frac{1}{\\sigma_{2|1}\\sqrt{2\\pi}} e^{-\\frac{1}{2}\\left(\\frac{y_2-\\mu_{2|1}}{\\sigma_{2|1}}\\right)^2}\n",
    "\\label{eq1.4}\\tag{1.4}\\end{align}\n",
    "$$"
   ]
  },
  {
   "cell_type": "markdown",
   "id": "2be0c99b",
   "metadata": {},
   "source": [
    "$$\n",
    "\\begin{align}\n",
    "{\\iint f(y_2|y_1=y_{k_i1}) \\log \\frac{p(Y,T|\\theta)}{f(y_2|y_1=y_{k_i1})} dy_1 dy_2} = {\\iint \\frac{1}{\\sigma_{2|1}\\sqrt{2\\pi}} e^{-\\frac{1}{2}\\left(\\frac{y_2-\\mu_{2|1}}{\\sigma_{2|1}}\\right)^2} \\left(L_1+L_2- \\log \\frac{1}{\\sigma_{2|1}\\sqrt{2\\pi}} e^{-\\frac{1}{2}\\left(\\frac{y_2-\\mu_{2|1}}{\\sigma_{2|1}}\\right)^2}\\right) dy_1 dy_2}\\\n",
    "= {\\iint q L_1 + q L_2 - q \\log{q} dy_1 dy_2} = {\\iint q L_1 dy_1 dy_2 + \\iint q L_2 dy_1 dy_2 - \\iint q \\log{q} dy_1 dy_2}\n",
    "\\label{eq1.5}\\tag{1.5}\\end{align}\n",
    "$$"
   ]
  },
  {
   "cell_type": "markdown",
   "id": "14ad7353",
   "metadata": {},
   "source": [
    "$$\n",
    "\\begin{align}\n",
    "{\\iint q L_1 dy_1 dy_2 + \\iint q L_2 dy_1 dy_2 - \\iint q \\log{q} dy_1 dy_2}\n",
    "={\\iint q \\left(-\\frac{N}{2} \\log (D_1) -\\frac{R}{2} \\log  \\left(D_{2|1}\\right)\\right) dy_1 dy_2 + \\iint q \\left(-\\frac{N}{2} \\frac{(y_{1}-\\mu_1)^2}{D_1}-\\frac{R}{2} \\frac{\\left(y_{2}-\\mu_{2|1}\\right)^2}{D_{2|1}}\\right) dy_1 dy_2 - \\iint q \\log{q} dy_1 dy_2}\n",
    "={\\left(-\\frac{N}{2} \\log (D_1) -\\frac{R}{2} \\log  \\left(D_{2|1}\\right)\\right) \\iint q  dy_1 dy_2 - \\frac{1}{2} \\iint q \\left(N \\frac{(y_{1}-\\mu_1)^2}{D_1} + R \\frac{\\left(y_{2}-\\mu_{2|1}\\right)^2}{D_{2|1}}\\right) dy_1 dy_2 - \\iint q \\log{q} dy_1 dy_2}\n",
    "\\label{eq1.6}\\tag{1.6}\\end{align}\n",
    "$$"
   ]
  },
  {
   "cell_type": "markdown",
   "id": "3b2147cc",
   "metadata": {},
   "source": [
    "$$\n",
    "\\begin{align}\n",
    "\\int e^{-ax^2+bx+c}dx=\\sqrt{\\frac{\\pi}{a}}e^{\\frac{b^2}{4a}+c}\n",
    "\\label{eq1.7}\\tag{1.7}\\end{align}\n",
    "$$"
   ]
  },
  {
   "cell_type": "code",
   "execution_count": null,
   "id": "a4ab5528",
   "metadata": {},
   "outputs": [],
   "source": []
  }
 ],
 "metadata": {
  "kernelspec": {
   "display_name": "Python 3 (ipykernel)",
   "language": "python",
   "name": "python3"
  },
  "language_info": {
   "codemirror_mode": {
    "name": "ipython",
    "version": 3
   },
   "file_extension": ".py",
   "mimetype": "text/x-python",
   "name": "python",
   "nbconvert_exporter": "python",
   "pygments_lexer": "ipython3",
   "version": "3.10.9"
  }
 },
 "nbformat": 4,
 "nbformat_minor": 5
}
