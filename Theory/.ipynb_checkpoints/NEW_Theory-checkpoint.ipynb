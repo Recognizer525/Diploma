{
 "cells": [
  {
   "cell_type": "markdown",
   "id": "11995dae",
   "metadata": {},
   "source": [
    "# Вывод условной плотности гауссовского распределения.\n",
    "Найдем условную плотность гауссовской случайной величины $x$ при фиксированном значении гауссовской случайной величины $y$.\n",
    "\n",
    "$\\rho$ - коэффициент корреляции признаков.\n",
    "\n",
    "$k_{xy}$ - ковариация признаков."
   ]
  },
  {
   "cell_type": "markdown",
   "id": "82665691",
   "metadata": {},
   "source": [
    "$$\n",
    "\\begin{align}\n",
    "f(x|y)={\\frac{f(x,y)}{f(y)}=\\frac{\\frac{1}{2\\pi\\sigma_x\\sigma_y\\sqrt{1-\\rho^2}}\\exp\\left(-\\frac{1}{2(1-\\rho^2)}\\left[\\frac{(x-\\mu_x)^2}{\\sigma_x^2}-\\rho\\frac{2(x-\\mu_x)(y-\\mu_y)}{\\sigma_x\\sigma_y}+\\frac{(y-\\mu_y)^2}{\\sigma_y^2}\\right]\\right)}{\\frac{1}{\\sigma_y\\sqrt{2\\pi}}\\exp\\left(-\\frac{(y-\\mu_y)^2}{2\\sigma_y^2}\\right)}}\n",
    "={\\frac{1}{\\sqrt{2\\pi}\\sigma_x\\sqrt{1-\\rho^2}}\\exp\\left(-\\frac{1}{2(1-\\rho^2)}\\left[\\frac{(x-\\mu_x)^2}{\\sigma_x^2}-\\rho\\frac{2(x-\\mu_x)(y-\\mu_y)}{\\sigma_x\\sigma_y}+\\frac{(y-\\mu_y)^2}{\\sigma_y^2}\\right]+\\frac{(y-\\mu_y)^2}{2\\sigma_y^2}\\right)=\\:...}\\label{eq1}\\tag{1.1}\\end{align}\n",
    "$$"
   ]
  },
  {
   "cell_type": "markdown",
   "id": "2119072b",
   "metadata": {},
   "source": [
    "Преобразуем выражение в показателе экспоненты:"
   ]
  },
  {
   "cell_type": "markdown",
   "id": "1d67e50d",
   "metadata": {},
   "source": [
    "$$ \n",
    "\\begin{align}\n",
    "-\\frac{1}{2(1-\\rho^2)}\\left[\\frac{(x-\\mu_x)^2}{\\sigma_x^2}-\\rho\\frac{2(x-\\mu_x)(y-\\mu_y)}{\\sigma_x\\sigma_y}+\\frac{(y-\\mu_y)^2}{\\sigma_y^2}\\right]+\\frac{(y-\\mu_y)^2}{2\\sigma_y^2}\n",
    "={-\\frac{1}{2(1-\\rho^2)}\\left[\\frac{(x-\\mu_x)^2}{\\sigma_x^2}-\\rho\\frac{2(x-\\mu_x)(y-\\mu_y)}{\\sigma_x\\sigma_y}+\\frac{(y-\\mu_y)^2}{\\sigma_y^2}-\\frac{(1-\\rho^2)(y-\\mu_y)^2}{\\sigma_y^2}\\right]}\n",
    "={-\\frac{1}{2(1-\\rho^2)}\\left[\\frac{(x-\\mu_x)^2}{\\sigma_x^2}-\\rho\\frac{2(x-\\mu_x)(y-\\mu_y)}{\\sigma_x\\sigma_y}+\\frac{(y-\\mu_y)^2}{\\sigma_y^2}+\\frac{(\\rho^2-1)(y-\\mu_y)^2}{\\sigma_y^2}\\right]}\n",
    "={-\\frac{1}{2(1-\\rho^2)}\\left[\\frac{(x-\\mu_x)^2}{\\sigma_x^2}-\\frac{2\\rho(x-\\mu_x)(y-\\mu_y)}{\\sigma_x\\sigma_y}+\\frac{\\rho^2(y-\\mu_y)^2}{\\sigma_y^2}\\right]}\n",
    "={-\\frac{1}{2(1-\\rho^2)}\\left[\\frac{\\sigma_y^2(x-\\mu_x)^2}{\\sigma_x^2\\sigma_y^2}-\\frac{2\\rho\\sigma_x\\sigma_y(x-\\mu_x)(y-\\mu_y)}{\\sigma_x^2\\sigma_y^2}+\\frac{\\sigma_x^2\\rho^2(y-\\mu_y)^2}{\\sigma_x^2\\sigma_y^2}\\right]}\n",
    "{=-\\frac{1}{2\\sigma_x^2(1-\\rho^2)}\\left[(x-\\mu_x)^2-\\frac{2\\rho\\sigma_x\\sigma_y(x-\\mu_x)(y-\\mu_y)}{\\sigma_y^2}+\\frac{\\sigma_x^2\\rho^2(y-\\mu_y)^2}{\\sigma_y^2}\\right]}\n",
    "={-\\frac{1}{2\\sigma_x^2(1-\\rho^2)}\\left[(x-\\mu_x)^2-2(x-\\mu_x)\\rho\\frac{\\sigma_x}{\\sigma_y}(y-\\mu_y)+\\left(\\rho\\frac{\\sigma_x}{\\sigma_y}(y-\\mu_y)\\right)^2\\right]}\n",
    "=-\\frac{1}{2\\sigma_x^2(1-\\rho^2)}\\left(x-\\mu_x-\\rho\\frac{\\sigma_x}{\\sigma_y}(y-\\mu_y)\\right)^2\\label{eq1.2}\\tag{1.2}\\end{align}\n",
    "$$"
   ]
  },
  {
   "cell_type": "markdown",
   "id": "09b71216",
   "metadata": {},
   "source": [
    "Подставляем в формулу условной плотности:"
   ]
  },
  {
   "cell_type": "markdown",
   "id": "8d159694",
   "metadata": {},
   "source": [
    "$$\n",
    "\\begin{align}\n",
    "f(x|y)=\\frac{1}{\\sqrt{2\\pi}\\sigma_x\\sqrt{1-\\rho^2}}\\exp\\left[-\\frac{\\left(x-\\mu_x-\\rho\\frac{\\sigma_x}{\\sigma_y}(y-\\mu_y)\\right)^2}{2\\sigma_x^2(1-\\rho^2)}\\right] \\label{eq2}\\tag{1.3}\\end{align}\n",
    "$$\n",
    "Судя по виду условной плотности, она является одномерным гауссовским распределением, причем параметры его следующие: $\\mu_{x|y}=\\mu_x+\\rho\\frac{\\sigma_x}{\\sigma_y}(y-\\mu_y)$, $\\sigma_{x|y}=\\sigma_x\\sqrt{1-\\rho^2}$.\n",
    "$D_{x|y}=\\sigma_{x|y}^2=D_{x}(1-\\rho^2)=D_x-D_x\\frac{k_{xy}^2}{D_yD_x}=D_x-\\frac{k_{xy}^2}{D_y}$. "
   ]
  },
  {
   "cell_type": "markdown",
   "id": "638fbadb",
   "metadata": {},
   "source": [
    "$$\n",
    "\\begin{align}\n",
    "f(x|y)=\\frac{1}{\\sqrt{2\\pi}\\sigma_{x|y}}\\exp\\left(-\\frac{\\left(x-\\mu_{x|y}\\right)^2}{2\\sigma_{x|y}^2}\\right) \\label{eq3}\\tag{1.4}\\end{align}\n",
    "$$"
   ]
  },
  {
   "cell_type": "markdown",
   "id": "7e2cf343",
   "metadata": {},
   "source": [
    "# ЕМ-алгоритм для пропусков в данных."
   ]
  },
  {
   "cell_type": "markdown",
   "id": "afa90da9",
   "metadata": {},
   "source": [
    "**Обозначения:**\n",
    "В материале http://juliejosse.com/wp-content/uploads/2018/07/LectureNotesMissing.html#3 \n",
    "$\\sigma$ используется непоследовательно, в формуле для правдоподобия она используется как среднеквадратичное отклонение,\n",
    "при расчете Е- и М- шагов используется для обозначения компонентов матрицы ковариации, в связи с этим я решил использовать следующие обозначения:\n",
    "    \n",
    "$D_1$ - для обозначения дисперсии первого признака; \n",
    "\n",
    "$D_2$ - для обозначения дисперсии второго признака;\n",
    "\n",
    "$k_{12}$ для обозначения ковариации признаков;\n",
    "\n",
    "$\\sigma_1$ - для обозначения среднеквадратичного отклонения первого признака;\n",
    "\n",
    "$\\sigma_2$ - для обозначения среднеквадратичного отклонения второго признака."
   ]
  },
  {
   "cell_type": "markdown",
   "id": "03df4eea",
   "metadata": {},
   "source": [
    "Функция, соответствующая совместному распределению наблюдаемых данных, приведена ниже.\n",
    "R - число строк датасета, где отсутствуют пропуски, N - общее число строк.\n",
    "$$\n",
    "\\begin{align} f_{1,2}(y_1,y_2;\\mu,\\Sigma)=\\prod_{i=1}^N f_1(y_{i1};\\mu_1,\\sigma_1) \\prod_{j=1}^R f_{2|1}(y_{j2}|y_{j1};\\mu,\\Sigma) \\label{eq2.1}\\tag{2.1}\\end{align} \n",
    "$$"
   ]
  },
  {
   "cell_type": "markdown",
   "id": "a406b3ae",
   "metadata": {},
   "source": [
    "$$\n",
    "\\begin{align} f_1(y_{i1};\\mu_1,\\sigma_1) = \\frac{1}{\\sigma_1\\sqrt{2\\pi}} e^{-\\frac{(y_{i1}-\\mu_1)^2}{2\\sigma_1^2}} \\label{eq2.2}\\tag{2.2}\\end{align}\n",
    "$$"
   ]
  },
  {
   "cell_type": "markdown",
   "id": "105f4852",
   "metadata": {},
   "source": [
    "$ f_{2|1}(y_{j2}|y_{j1};\\mu,\\Sigma) $ - гауссовская плотность с параметрами $ \\mu_{2|1}=\\mu_2+\\frac{\\sigma_{2}}{\\sigma_1}\\rho (y_{j1}-\\mu_1);   \\; D_{2|1}=D_2(1-\\rho^2) $, где $\\rho$ - коэффициент корреляции"
   ]
  },
  {
   "cell_type": "markdown",
   "id": "0e5e051e",
   "metadata": {},
   "source": [
    "$$\n",
    "\\begin{align} D_{2|1} = D_2 (1-\\rho^2) = D_2 \\left(1-(\\frac{k_{12}}{\\sqrt{D_1D_2}})^2\\right) = D_2-D_2\\left(\\frac{k_{12}}{\\sqrt{D_1 D_2}}\\right)^2 = D_2-\\frac{k_{12}^2}{D_1}; \\label{eq2.3}\\tag{2.3}\\end{align} \n",
    "$$"
   ]
  },
  {
   "cell_type": "markdown",
   "id": "3628e865",
   "metadata": {},
   "source": [
    "$$\n",
    "\\begin{align} \\sigma_{2|1}=\\sqrt{D_{2}-\\frac{k_{12}^2}{D_1}} \\label{eq2.4}\\tag{2.4}\\end{align}\n",
    "$$"
   ]
  },
  {
   "cell_type": "markdown",
   "id": "c4437b73",
   "metadata": {},
   "source": [
    "$$\n",
    "\\begin{align} \\mu_{2|1} = \\mu_2+\\frac{\\sigma_2}{\\sigma_1}\\rho (y_{j1}-\\mu_1) = \\mu_2+\\frac{\\sigma_2}{\\sigma_1}\\frac{k_{12}}{\\sigma_1\\sigma_2} (y_{j1}-\\mu_1) = \\mu_2+\\frac{k_{12}}{D_1} (y_{j1}-\\mu_1) \\label{eq4}\\tag{2.5}\\end{align} \n",
    "$$"
   ]
  },
  {
   "cell_type": "markdown",
   "id": "8af0c3e4",
   "metadata": {},
   "source": [
    "$$\n",
    "\\begin{align} f_{2|1}(y_{j2}|y_{j1};\\mu,\\Sigma) = \\frac{1}{\\sigma_{2|1}\\sqrt{2\\pi}} e^{-\\frac{(y_{j2}-\\mu_{2|1})^2}{2\\sigma_{2|1}^2}} \\label{eq5}\\tag{2.6}\\end{align} \n",
    "$$"
   ]
  },
  {
   "cell_type": "markdown",
   "id": "a8398bfb",
   "metadata": {},
   "source": [
    "$$\n",
    "\\begin{align}\n",
    "{f_{1,2}(y_1,y_2;\\mu,\\Sigma)=\\prod_{i=1}^N\\frac{1}{\\sigma_1\\sqrt{2\\pi}} e^{-\\frac{(y_{i1}-\\mu_1)^2}{2\\sigma_1^2}} \\prod_{j=1}^R \\frac{1}{\\sigma_{2|1}\\sqrt{2\\pi}} e^{-\\frac{(y_{i2}-\\mu_{2|1})^2}{2\\sigma_{2|1}^2}}}\n",
    "\\label{eq2.7}\\tag{2.7}\\end{align}\n",
    "$$"
   ]
  },
  {
   "cell_type": "markdown",
   "id": "310f6838",
   "metadata": {},
   "source": [
    "$$\n",
    "\\begin{align}\n",
    "{l(\\mu, \\Sigma; y_1, y_2) = \\log f_{1,2} (y_1, y_2;\\mu, \\Sigma) = \\log \\prod_{i=1}^N\\frac{1}{\\sigma_1\\sqrt{2\\pi}} e^{-\\frac{(y_{i1}-\\mu_1)^2}{2\\sigma_1^2}} + \\log \\prod_{i=1}^R \\frac{1}{\\sigma_{2|1}\\sqrt{2\\pi}} e^{-\\frac{(y_{i2}-\\mu_{2|1})^2}{2\\sigma_{2|1}^2}}}\n",
    "= {\\log \\prod_{i=1}^N\\frac{1}{\\sigma_{11}\\sqrt{2\\pi}} + \\log \\prod_{i=1}^N e^{-\\frac{(y_{i1}-\\mu_1)^2}{2\\sigma_1^2}} + \\log \\prod_{i=1}^R \\frac{1}{\\sigma_{2|1}\\sqrt{2\\pi}} + \\log \\prod_{i=1}^R e^{-\\frac{(y_{i2}-\\mu_{2|1})^2}{2\\sigma_{2|1}^2}}}\n",
    "= {\\log \\prod_{i=1}^N\\frac{1}{\\sqrt{2\\pi}} + \\log \\prod_{i=1}^N\\frac{1}{\\sqrt{\\sigma_1^2}} + \\log \\prod_{i=1}^N e^{-\\frac{(y_{i1}-\\mu_1)^2}{2\\sigma_1^2}} + \\log \\prod_{i=1}^R \\frac{1}{\\sqrt{2\\pi}} + \\log \\prod_{i=1}^R \\frac{1}{\\sqrt{\\sigma_{2|1}^2}} + \\log \\prod_{i=1}^R e^{-\\frac{(y_{i2}-\\mu_{2|1})^2}{2\\sigma_{2|1}^2}}}\n",
    "= {\\log \\prod_{i=1}^N\\frac{1}{\\sqrt{2\\pi}} + \\log \\prod_{i=1}^N (\\sigma_{1}^2)^{(-1/2)} + \\log \\prod_{i=1}^N e^{-\\frac{(y_{i1}-\\mu_1)^2}{2\\sigma_1^2}} + \\log \\prod_{i=1}^R \\frac{1}{\\sqrt{2\\pi}} + \\log \\prod_{i=1}^R (\\sigma_{2|1}^2)^{(-1/2)} + \\log \\prod_{i=1}^R e^{-\\frac{(y_{i2}-\\mu_{2|1})^2}{2\\sigma_{2|1}^2}}}\n",
    "= {\\sum_{i=1}^N \\log \\frac{1}{\\sqrt{2\\pi}} + \\sum_{i=1}^N -\\frac{1}{2} \\log (\\sigma_1^2) + \\sum_{i=1}^N -\\frac{(y_{i1}-\\mu_1)^2}{2\\sigma_1^2} + \\sum_{i=1}^R \\log \\frac{1}{\\sqrt{2\\pi}} + \\sum_{i=1}^R -\\frac{1}{2} \\log  (\\sigma_{2|1}^2) + \\sum_{i=1}^R -\\frac{(y_{i2}-\\mu_{2|1})^2}{2\\sigma_{2|1}^2}}\n",
    "= {\\sum_{i=1}^N \\log \\frac{1}{\\sqrt{2\\pi}} -\\frac{N}{2} \\log (\\sigma_1^2) -\\frac{1}{2} \\sum_{i=1}^N \\frac{(y_{i1}-\\mu_1)^2}{\\sigma_1^2} + \\sum_{i=1}^R \\log \\frac{1}{\\sqrt{2\\pi}} -\\frac{R}{2} \\log  (\\sigma_{2|1}^2) -\\frac{1}{2} \\sum_{i=1}^R \\frac{(y_{i2}-\\mu_{2|1})^2}{\\sigma_{2|1}^2}}\n",
    "\\label{eq2.8}\\tag{2.8}\\end{align}\n",
    "$$"
   ]
  },
  {
   "cell_type": "markdown",
   "id": "a0e8b475",
   "metadata": {},
   "source": [
    "Удалим константные слагаемые и раскроем $\\mu_{2|1}$ и $\\sigma_{2|1}$."
   ]
  },
  {
   "cell_type": "markdown",
   "id": "81dfbbeb",
   "metadata": {},
   "source": [
    "$$\n",
    "\\begin{align}\n",
    "l(\\mu, \\Sigma; y_1, y_2) = {-\\frac{N}{2} \\log (\\sigma_1^2) -\\frac{1}{2} \\sum_{i=1}^N \\frac{(y_{i1}-\\mu_1)^2}{\\sigma_1^2} -\\frac{R}{2} \\log  \\left(D_{2|1}\\right) -\\frac{1}{2} \\sum_{i=1}^R \\frac{\\left(y_{i2}-\\mu_{2|1}\\right)^2}{D_{2|1}}}\n",
    "= {-\\frac{N}{2} \\log (\\sigma_1^2) -\\frac{1}{2} \\sum_{i=1}^N \\frac{(y_{i1}-\\mu_1)^2}{\\sigma_1^2} -\\frac{R}{2} \\log  \\left(D_2-\\frac{k_{12}^2}{D_1}\\right) -\\frac{1}{2} \\sum_{i=1}^R \\frac{\\left(y_{i2}-\\mu_2-\\frac{k_{12}}{D_1} (y_{i1}-\\mu_1)\\right)^2}{D_2-\\frac{k_{12}^2}{D_1}}}\n",
    "\\label{eq2.9}\\tag{2.9}\\end{align}\n",
    "$$"
   ]
  },
  {
   "cell_type": "markdown",
   "id": "e5b9c737",
   "metadata": {},
   "source": [
    "# E-шаг:"
   ]
  },
  {
   "cell_type": "markdown",
   "id": "41ea25ea",
   "metadata": {},
   "source": [
    "$$\n",
    "\\begin{align}\n",
    "q(T|\\theta)=P(T|Y,\\theta)=\\frac{P(Y|T,\\theta)P(T|\\theta)}{P(Y|\\theta)};\n",
    "\\label{eq3.1}\\tag{3.1}\\end{align}\n",
    "$$"
   ]
  },
  {
   "cell_type": "markdown",
   "id": "dbece099",
   "metadata": {},
   "source": [
    "$$\n",
    "\\begin{align}\n",
    "P(Y|\\theta)=\\frac{1}{\\sigma_1\\sqrt{2\\pi}} e^{-\\frac{(y_{i1}-\\mu_1)^2}{2\\sigma_1^2}};\\:\\:\\:\n",
    "P(T|\\theta)=\\frac{1}{\\sigma_2\\sqrt{2\\pi}} e^{-\\frac{(y_{i2}-\\mu_2)^2}{2\\sigma_2^2}};\\:\\:\\:\n",
    "P(Y|T,\\theta)=\\frac{1}{\\sigma_{1|2}\\sqrt{2\\pi}} e^{-\\frac{(y_{i1}-\\mu_{1|2})^2}{2\\sigma_{1|2}^2}}\n",
    "\\label{eq3.2}\\tag{3.2}\\end{align}\n",
    "$$"
   ]
  },
  {
   "cell_type": "markdown",
   "id": "5a890041",
   "metadata": {},
   "source": [
    "$$\n",
    "\\begin{align}\n",
    "{q(T|\\theta)=\\frac{\\frac{1}{\\sigma_{1|2}\\sqrt{2\\pi}} e^{-\\frac{(y_{i1}-\\mu_{1|2})^2}{2\\sigma_{1|2}^2}}\\frac{1}{\\sigma_2\\sqrt{2\\pi}} e^{-\\frac{(y_{i2}-\\mu_2)^2}{2\\sigma_2^2}}}{\\frac{1}{\\sigma_1\\sqrt{2\\pi}} e^{-\\frac{(y_{i1}-\\mu_1)^2}{2\\sigma_1^2}}}}=\n",
    "{\\frac{\\sigma_1}{\\sigma_2\\sigma_{1|2}\\sqrt{2\\pi}} e^{-\\frac{(y_{i1}-\\mu_{1|2})^2}{2\\sigma_{1|2}^2}} e^{-\\frac{(y_{i2}-\\mu_2)^2}{2\\sigma_2^2}}{e^{\\frac{(y_{i1}-\\mu_1)^2}{2\\sigma_1^2}}}}\n",
    "{= \\frac{\\sigma_1}{\\sigma_2\\sigma_{1|2}\\sqrt{2\\pi}} e^{-\\frac{(y_{i1}-\\mu_{1|2})^2}{2\\sigma_{1|2}^2}-\\frac{(y_{i2}-\\mu_2)^2}{2\\sigma_2^2}+\\frac{(y_{i1}-\\mu_1)^2}{2\\sigma_1^2}}}\n",
    "= \\frac{\\sigma_1}{\\sigma_2\\sigma_1\\sqrt{1-\\rho^2}\\sqrt{2\\pi}} e^{-\\frac{\\left(y_{i1}-\\mu_1-\\frac{\\sigma_1}{\\sigma_2}\\rho (y_{j2}-\\mu_2)\\right)^2}{2\\sigma_1^2(1-\\rho^2)}-\\frac{(y_{i2}-\\mu_2)^2}{2\\sigma_2^2}+\\frac{(y_{i1}-\\mu_1)^2}{2\\sigma_1^2}}\n",
    "= \\frac{1}{\\sigma_2\\sqrt{1-\\rho^2}\\sqrt{2\\pi}} e^{-\\frac{\\left(y_{i1}-\\mu_1-\\frac{\\sigma_1}{\\sigma_2}\\rho (y_{j2}-\\mu_2)\\right)^2}{2\\sigma_1^2(1-\\rho^2)}-\\frac{(y_{i2}-\\mu_2)^2}{2\\sigma_2^2}+\\frac{(y_{i1}-\\mu_1)^2}{2\\sigma_1^2}}\n",
    "\\label{eq3.3}\\tag{3.3}\\end{align}\n",
    "$$"
   ]
  },
  {
   "cell_type": "markdown",
   "id": "62b167cd",
   "metadata": {},
   "source": [
    "Преобразуем показатель экспоненты:\n",
    "$$\n",
    "-\\frac{\\left(y_{i1}-\\mu_1-\\frac{\\sigma_1}{\\sigma_2}\\rho (y_{j2}-\\mu_2)\\right)^2}{2\\sigma_1^2(1-\\rho^2)}-\\frac{(y_{i2}-\\mu_2)^2}{2\\sigma_2^2}+\\frac{(y_{i1}-\\mu_1)^2}{2\\sigma_1^2}=\\\\\n",
    "-\\frac{\\sigma_2^2\\left(y_{i1}-\\mu_1-\\frac{\\sigma_1}{\\sigma_2}\\rho (y_{j2}-\\mu_2)\\right)^2}{2\\sigma_2^2\\sigma_1^2(1-\\rho^2)}-\\frac{\\sigma_1^2(y_{i2}-\\mu_2)^2(1-\\rho^2)}{2\\sigma_1^2\\sigma_2^2(1-\\rho^2)}+\\frac{\\sigma_2^2(y_{i1}-\\mu_1)^2(1-\\rho^2)}{2\\sigma_2^2\\sigma_1^2(1-\\rho^2)}\n",
    "$$\n",
    "Сделаем, для удобства вычислений, две замены: $a=y_{i1}-\\mu_1, b=y_{i2}-\\mu_2$\n",
    "$$\n",
    "\\begin{align}\n",
    "{-\\frac{\\sigma_2^2\\left(y_{i1}-\\mu_1-\\frac{\\sigma_1}{\\sigma_2}\\rho (y_{j2}-\\mu_2)\\right)^2}{2\\sigma_2^2\\sigma_1^2(1-\\rho^2)}-\\frac{\\sigma_1^2(y_{i2}-\\mu_2)^2(1-\\rho^2)}{2\\sigma_1^2\\sigma_2^2(1-\\rho^2)}+\\frac{\\sigma_2^2(y_{i1}-\\mu_1)^2(1-\\rho^2)}{2\\sigma_2^2\\sigma_1^2(1-\\rho^2)}}\n",
    "={-\\frac{\\sigma_2^2\\left(a-\\frac{\\sigma_1}{\\sigma_2}\\rho b\\right)^2}{2\\sigma_1^2\\sigma_2^2(1-\\rho^2)}-\\frac{\\sigma_1^2b^2(1-\\rho^2)}{2\\sigma_1^2\\sigma_2^2(1-\\rho^2)}+\\frac{\\sigma_2^2a^2(1-\\rho^2)}{2\\sigma_1^2\\sigma_2^2(1-\\rho^2)}}\n",
    "={-\\frac{1}{2\\sigma_2^2(1-\\rho^2)} \\left(\\frac{\\sigma_2^2\\left(a-\\frac{\\sigma_1}{\\sigma_2}\\rho b\\right)^2}{\\sigma_1^2}+\\frac{\\sigma_1^2b^2(1-\\rho^2)}{\\sigma_1^2}-\\frac{\\sigma_2^2a^2(1-\\rho^2)}{\\sigma_1^2}\\right)}\n",
    "={-\\frac{1}{2\\sigma_2^2(1-\\rho^2)} \\left(\\frac{\\sigma_2^2\\left(a^2-2a\\frac{\\sigma_1}{\\sigma_2}\\rho b+(\\frac{\\sigma_1}{\\sigma_2}\\rho b)^2\\right)}{\\sigma_1^2}+\\frac{\\sigma_1^2b^2(1-\\rho^2)}{\\sigma_1^2}-\\frac{\\sigma_2^2a^2(1-\\rho^2)}{\\sigma_1^2}\\right)}\n",
    "={-\\frac{1}{2\\sigma_2^2(1-\\rho^2)} \\left(\\frac{\\left(\\sigma_2^2a^2-2a\\sigma_2^2\\frac{\\sigma_1}{\\sigma_2}\\rho b+\\sigma_2^2(\\frac{\\sigma_1}{\\sigma_2}\\rho b)^2\\right)}{\\sigma_1^2}+\\frac{\\sigma_1^2b^2(1-\\rho^2)}{\\sigma_1^2}-\\frac{\\sigma_2^2a^2(1-\\rho^2)}{\\sigma_1^2}\\right)}\n",
    "={-\\frac{1}{2\\sigma_2^2(1-\\rho^2)} \\left(\\frac{\\left(\\sigma_2^2a^2-2a\\sigma_2\\sigma_1\\rho b+(\\sigma_1\\rho b)^2\\right)}{\\sigma_1^2}+\\frac{\\sigma_{1}^2b^2(1-\\rho^2)}{\\sigma_1^2}-\\frac{\\sigma_2^2a^2(1-\\rho^2)}{\\sigma_1^2}\\right)}\n",
    "={-\\frac{1}{2\\sigma_2^2(1-\\rho^2)} \\left(\\frac{-2a\\sigma_2\\rho b}{\\sigma_1}+(\\frac{\\sigma_2a}{\\sigma_1})^2+(\\rho b)^2+b^2(1-\\rho^2)-\\frac{\\sigma_2^2a^2(1-\\rho^2)}{\\sigma_1^2}\\right)}\n",
    "={-\\frac{1}{2\\sigma_2^2(1-\\rho^2)} \\left(b^2-2\\frac{\\sigma_2a\\rho b}{\\sigma_1}+(\\frac{\\sigma_2a\\rho}{\\sigma_1})^2\\right)}\n",
    "={-\\frac{1}{2\\sigma_2^2(1-\\rho^2)} \\left(b-\\frac{\\sigma_2a\\rho}{\\sigma_1}\\right)^2}\n",
    "={-\\frac{1}{2\\sigma_2^2(1-\\rho^2)} \\left(y_{i2}-\\mu_2-\\rho\\frac{\\sigma_2}{\\sigma_1}(y_{i1}-\\mu_1)\\right)^2}\n",
    "\\label{eq3.4}\\tag{3.4}\\end{align}\n",
    "$$"
   ]
  },
  {
   "cell_type": "markdown",
   "id": "d8f6e658",
   "metadata": {},
   "source": [
    "$$\n",
    "\\begin{align}\n",
    "f(y_2|y_1)=\\frac{1}{\\sigma_2\\sqrt{1-\\rho^2}\\sqrt{2\\pi}}e^{-\\frac{1}{2\\sigma_2^2(1-\\rho^2)} \\left(y_{i2}-\\mu_2-\\rho\\frac{\\sigma_2}{\\sigma_1}(y_{i1}-\\mu_1)\\right)^2}\n",
    "\\label{eq3.5}\\tag{3.5}\\end{align}\n",
    "$$"
   ]
  },
  {
   "cell_type": "markdown",
   "id": "2971cf89",
   "metadata": {},
   "source": [
    "$$\n",
    "\\begin{align}\n",
    "E[y_{i2}|y_{i1};\\mu,\\Sigma]=\\bar{y}_2+\\frac{k_{12}}{D_{1}}(y_{i1}-\\bar{y}_1)\n",
    "\\label{eq3.6}\\tag{3.6}\\end{align}\n",
    "$$"
   ]
  },
  {
   "cell_type": "markdown",
   "id": "6b8b6c87",
   "metadata": {},
   "source": [
    "$$\n",
    "\\begin{align}\n",
    "E[y_{i2}^2|y_{i1};\\mu,\\Sigma]=\\left(\\bar{y}_2+\\frac{k_{12}}{D_{1}}(y_{i1}-\\bar{y}_1)\\right)^2+D_{2|1}\n",
    "\\label{eq3.7}\\tag{3.7}\\end{align}\n",
    "$$"
   ]
  },
  {
   "cell_type": "markdown",
   "id": "c662268c",
   "metadata": {},
   "source": [
    "(так как $D[Y]=M[Y^2]-M[Y]^2$)"
   ]
  },
  {
   "cell_type": "markdown",
   "id": "bc06eb29",
   "metadata": {},
   "source": [
    "$$\n",
    "\\begin{align}\n",
    "E[y_{i2}y_{i1}|y_{i1};\\mu,\\Sigma]=\\left(\\bar{y}_2+\\frac{k_{12}}{D_{1}}(y_{i1}-\\bar{y}_1)\\right)y_{i1}\n",
    "\\label{eq3.8}\\tag{3.8}\\end{align}\n",
    "$$"
   ]
  },
  {
   "cell_type": "markdown",
   "id": "8405555f",
   "metadata": {},
   "source": [
    "# M-Шаг и нижняя вариационная граница:\n",
    "В данной задаче скрытыми значениями являются пропущенные значения второго признака, число которых равно $K$. Пусть $k_i, i=1,...,K$ - индексы, соответствующие строкам, в которых есть пропущенное значение второго признака.\n",
    "$L$ - полное правдоподобие, рассчитывается по формуле (2.9). Полное правдоподобие представлено в виде 4-х слагаемых, при нижеследующих вычислениях потребуется проинтегрировать выражение с полным правдоподобием. Первое и третье слагаемые следует рассматривать как константы, обозначим их сумму как $L_1$. Сумму последнего и второго слагаемого обозначим как $L_2$."
   ]
  },
  {
   "cell_type": "markdown",
   "id": "6457c40e",
   "metadata": {},
   "source": [
    "$$\n",
    "\\begin{align}\n",
    "L_1=-\\frac{N}{2} \\log (\\sigma_1^2) -\\frac{R}{2} \\log  \\left(D_{2|1}\\right)\n",
    "\\label{eq4.1}\\tag{4.1}\\end{align}\n",
    "$$"
   ]
  },
  {
   "cell_type": "markdown",
   "id": "21446ac8",
   "metadata": {},
   "source": [
    "$$\n",
    "\\begin{align}\n",
    "L_2=-\\frac{1}{2} \\sum_{i=1}^N \\frac{(y_{i1}-\\mu_1)^2}{\\sigma_1^2}-\\frac{1}{2} \\sum_{i=1}^R \\frac{\\left(y_{i2}-\\mu_{2|1}\\right)^2}{D_{2|1}}\n",
    "\\label{eq4.2}\\tag{4.2}\\end{align}\n",
    "$$"
   ]
  },
  {
   "cell_type": "markdown",
   "id": "9996b396",
   "metadata": {},
   "source": [
    "$$\n",
    "\\begin{align}\n",
    "VLB = E_{q(T)} \\log \\frac { p(Y,T|\\theta)}{q(T)}=\\sum_{i=1}^K \\int f(y_2|y_1=y_{k_i1}) \\log \\frac{p(Y,T|\\theta)}{f(y_2|y_1=y_{k_i1})} dy_2\n",
    "\\label{eq4.3}\\tag{4.3}\\end{align}\n",
    "$$"
   ]
  },
  {
   "cell_type": "markdown",
   "id": "ea43df0d",
   "metadata": {},
   "source": [
    "$$\n",
    "\\begin{align} \n",
    "{\\int f(y_2|y_1=y_{k_i1}) \\log \\frac{p(Y,T|\\theta)}{f(y_2|y_1=y_{k_i1})} dy_2} = {\\int \\frac{1}{\\sigma_{2|1}\\sqrt{2\\pi}} e^{-\\frac{1}{2}\\left(\\frac{y_2-\\mu_{2|1}}{\\sigma_{2|1}}\\right)^2} \\left(L_1 + L_2 - \\log \\frac{1}{\\sigma_{2|1} \\sqrt{2\\pi}} e^{-\\frac{1}{2}\\left(\\frac{y_2-\\mu_{2|1}}{\\sigma_{2|1}}\\right)^2}\\right) dy_2}\n",
    "={\\int q \\left(L_1 + L_2 - \\log \\frac{1}{\\sigma_{2|1} \\sqrt{2\\pi}} e^{-\\frac{1}{2}\\left(\\frac{y_2-\\mu_{2|1}}{\\sigma_{2|1}}\\right)^2}\\right) dy_2} = {L_1 \\int q \\: dy_2 + \\int q \\: L_2 \\: dy_2 - \\int q \\: \\log \\frac{1}{\\sigma_{2|1} \\sqrt{2\\pi}} e^{-\\frac{1}{2}\\left(\\frac{y_2-\\mu_{2|1}}{\\sigma_{2|1}}\\right)^2} dy_2}\n",
    "={L_1 + \\int q \\: L_2 \\: dy_2 - \\int q \\: \\log \\frac{1}{\\sigma_{2|1} \\sqrt{2\\pi}} e^{-\\frac{1}{2}\\left(\\frac{y_2-\\mu_{2|1}}{\\sigma_{2|1}}\\right)^2} dy_2}\n",
    "={L_1 + \\int q \\: L_2 \\: dy_2 - \\int q \\: \\log \\frac{1}{\\sigma_{2|1} \\sqrt{2\\pi}} dy_2 - \\int q \\: {\\left(-\\frac{(y_2-\\mu_{2|1})^2}{2D_{2|1}}\\right)} dy_2}\n",
    "={L_1 + \\int q \\: \\left(-\\frac{1}{2} \\sum_{i=1}^R \\frac{\\left(y_{i2}-\\mu_{2|1}\\right)^2}{D_{2|1}}\\right) \\: dy_2 - \\int q \\: \\log \\frac{1}{\\sigma_{2|1} \\sqrt{2\\pi}} dy_2 - \\int q \\: {\\left(-\\frac{(y_2-\\mu_{2|1})^2}{2D_{2|1}}\\right)} dy_2}\n",
    "={L_1 - \\int q \\: \\log \\frac{1}{\\sigma_{2|1} \\sqrt{2\\pi}} dy_2 -\\frac{1}{2} \\sum_{i=1}^R \\int q \\: \\left( \\frac{\\left(y_{i2}-\\mu_{2|1}\\right)^2}{D_{2|1}}\\right) \\: dy_2  + \\frac{1}{2} \\int q \\: {\\left(\\frac{(y_2-\\mu_{2|1})^2}{D_{2|1}}\\right)} dy_2}\n",
    "={L_1 - \\int q \\: \\log \\frac{1}{\\sigma_{2|1} \\sqrt{2\\pi}} dy_2 -\\frac{R-1}{2} \\int q \\: \\left( \\frac{\\left(y_{2}-\\mu_{2|1}\\right)^2}{D_{2|1}}\\right) \\: dy_2}\n",
    "={L_1 + \\log (\\sigma_{2|1} \\sqrt{2\\pi}) -\\frac{R-1}{2} M\\: \\left[\\frac{\\left(y_{2}-\\mu_{2|1}\\right)^2}{D_{2|1}}\\right]}\n",
    "={L_1 + \\log (\\sigma_{2|1} \\sqrt{2\\pi}) -\\frac{R-1}{2D_{2|1}} M\\: \\left[\\left(y_{2}-\\mu_{2|1}\\right)^2\\right]}\n",
    "={L_1 + \\log (\\sigma_{2|1} \\sqrt{2\\pi}) -\\frac{R-1}{2D_{2|1}} D_{2|1}}={L_1 + \\log (\\sigma_{2|1} \\sqrt{2\\pi}) -\\frac{R-1}{2}}\n",
    "\\label{eq4.4}\\tag{4.4}\\end{align}\n",
    "$$"
   ]
  },
  {
   "cell_type": "markdown",
   "id": "c23fb8dc",
   "metadata": {},
   "source": [
    "$$\n",
    "\\begin{align}\n",
    "{VLB=K*\\left(L_1 + \\log (\\sigma_{2|1} \\sqrt{2\\pi}) -\\frac{R-1}{2}\\right)}=\n",
    "{K*\\left(-\\frac{N}{2} \\log (\\sigma_1^2) -\\frac{1}{2} \\sum_{i=1}^N \\frac{(y_{i1}-\\mu_1)^2}{\\sigma_1^2} -\\frac{R}{2} \\log  \\left(D_{2|1}\\right)+ \\log (\\sigma_{2|1} \\sqrt{2\\pi}) -\\frac{R-1}{2}\\right)}\n",
    "\\label{eq4.5}\\tag{4.5}\\end{align}\n",
    "$$\n"
   ]
  },
  {
   "cell_type": "code",
   "execution_count": null,
   "id": "f230412e",
   "metadata": {},
   "outputs": [],
   "source": []
  }
 ],
 "metadata": {
  "kernelspec": {
   "display_name": "Python 3 (ipykernel)",
   "language": "python",
   "name": "python3"
  },
  "language_info": {
   "codemirror_mode": {
    "name": "ipython",
    "version": 3
   },
   "file_extension": ".py",
   "mimetype": "text/x-python",
   "name": "python",
   "nbconvert_exporter": "python",
   "pygments_lexer": "ipython3",
   "version": "3.10.9"
  }
 },
 "nbformat": 4,
 "nbformat_minor": 5
}
